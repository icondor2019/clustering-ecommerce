{
  "nbformat": 4,
  "nbformat_minor": 0,
  "metadata": {
    "colab": {
      "name": "uk_ecommerce.ipynb",
      "provenance": [],
      "collapsed_sections": []
    },
    "kernelspec": {
      "name": "python3",
      "display_name": "Python 3"
    },
    "language_info": {
      "name": "python"
    }
  },
  "cells": [
    {
      "cell_type": "markdown",
      "metadata": {
        "id": "UVYBEp7wX5tg"
      },
      "source": [
        "#EDA and Clustering project"
      ]
    },
    {
      "cell_type": "code",
      "metadata": {
        "colab": {
          "base_uri": "https://localhost:8080/"
        },
        "id": "BdDRG1pbTsZL",
        "outputId": "6925cfe9-b96a-470a-a209-0f3a1e82fbb9"
      },
      "source": [
        "#import libraries\n",
        "import pandas as pd\n",
        "import matplotlib.pyplot as plt\n",
        "import seaborn as sns\n",
        "import missingno as msno \n",
        "import scipy.cluster.hierarchy as sch\n",
        "\n",
        "from sklearn.preprocessing import MinMaxScaler\n",
        "from sklearn.cluster import KMeans\n",
        "from sklearn.cluster import AgglomerativeClustering\n",
        "\n",
        "#let's try some SQL code to see how it works in python\n",
        "!pip install pandasql\n",
        "from pandasql import sqldf\n",
        "\n"
      ],
      "execution_count": 2,
      "outputs": [
        {
          "output_type": "stream",
          "name": "stdout",
          "text": [
            "Collecting pandasql\n",
            "  Downloading pandasql-0.7.3.tar.gz (26 kB)\n",
            "Requirement already satisfied: numpy in /usr/local/lib/python3.7/dist-packages (from pandasql) (1.19.5)\n",
            "Requirement already satisfied: pandas in /usr/local/lib/python3.7/dist-packages (from pandasql) (1.1.5)\n",
            "Requirement already satisfied: sqlalchemy in /usr/local/lib/python3.7/dist-packages (from pandasql) (1.4.25)\n",
            "Requirement already satisfied: python-dateutil>=2.7.3 in /usr/local/lib/python3.7/dist-packages (from pandas->pandasql) (2.8.2)\n",
            "Requirement already satisfied: pytz>=2017.2 in /usr/local/lib/python3.7/dist-packages (from pandas->pandasql) (2018.9)\n",
            "Requirement already satisfied: six>=1.5 in /usr/local/lib/python3.7/dist-packages (from python-dateutil>=2.7.3->pandas->pandasql) (1.15.0)\n",
            "Requirement already satisfied: greenlet!=0.4.17 in /usr/local/lib/python3.7/dist-packages (from sqlalchemy->pandasql) (1.1.2)\n",
            "Requirement already satisfied: importlib-metadata in /usr/local/lib/python3.7/dist-packages (from sqlalchemy->pandasql) (4.8.1)\n",
            "Requirement already satisfied: zipp>=0.5 in /usr/local/lib/python3.7/dist-packages (from importlib-metadata->sqlalchemy->pandasql) (3.6.0)\n",
            "Requirement already satisfied: typing-extensions>=3.6.4 in /usr/local/lib/python3.7/dist-packages (from importlib-metadata->sqlalchemy->pandasql) (3.7.4.3)\n",
            "Building wheels for collected packages: pandasql\n",
            "  Building wheel for pandasql (setup.py) ... \u001b[?25l\u001b[?25hdone\n",
            "  Created wheel for pandasql: filename=pandasql-0.7.3-py3-none-any.whl size=26781 sha256=3d07973d8f04e5fdc94975e721c54e6d8ca4ecf394644cdba81611dbe3a14650\n",
            "  Stored in directory: /root/.cache/pip/wheels/5c/4b/ec/41f4e116c8053c3654e2c2a47c62b4fca34cc67ef7b55deb7f\n",
            "Successfully built pandasql\n",
            "Installing collected packages: pandasql\n",
            "Successfully installed pandasql-0.7.3\n"
          ]
        }
      ]
    },
    {
      "cell_type": "code",
      "metadata": {
        "id": "poZx1GzQSKKz",
        "colab": {
          "base_uri": "https://localhost:8080/",
          "height": 200
        },
        "outputId": "d60aef17-6bf7-408d-c3cf-1f994c6f7b40"
      },
      "source": [
        "#import the dataset\n",
        "path='//content/drive/MyDrive/DataSets'\n",
        "df=pd.read_csv(path+'/uk_ecommerce.csv',sep=',',encoding='latin-1')\n",
        "df.tail()"
      ],
      "execution_count": 3,
      "outputs": [
        {
          "output_type": "execute_result",
          "data": {
            "text/html": [
              "<div>\n",
              "<style scoped>\n",
              "    .dataframe tbody tr th:only-of-type {\n",
              "        vertical-align: middle;\n",
              "    }\n",
              "\n",
              "    .dataframe tbody tr th {\n",
              "        vertical-align: top;\n",
              "    }\n",
              "\n",
              "    .dataframe thead th {\n",
              "        text-align: right;\n",
              "    }\n",
              "</style>\n",
              "<table border=\"1\" class=\"dataframe\">\n",
              "  <thead>\n",
              "    <tr style=\"text-align: right;\">\n",
              "      <th></th>\n",
              "      <th>InvoiceNo</th>\n",
              "      <th>StockCode</th>\n",
              "      <th>Description</th>\n",
              "      <th>Quantity</th>\n",
              "      <th>InvoiceDate</th>\n",
              "      <th>UnitPrice</th>\n",
              "      <th>CustomerID</th>\n",
              "      <th>Country</th>\n",
              "      <th>Unnamed: 8</th>\n",
              "    </tr>\n",
              "  </thead>\n",
              "  <tbody>\n",
              "    <tr>\n",
              "      <th>541904</th>\n",
              "      <td>581587</td>\n",
              "      <td>22613</td>\n",
              "      <td>PACK OF 20 SPACEBOY NAPKINS</td>\n",
              "      <td>12</td>\n",
              "      <td>7-Dec-17</td>\n",
              "      <td>0.85</td>\n",
              "      <td>12680.0</td>\n",
              "      <td>France</td>\n",
              "      <td>NaN</td>\n",
              "    </tr>\n",
              "    <tr>\n",
              "      <th>541905</th>\n",
              "      <td>581587</td>\n",
              "      <td>22899</td>\n",
              "      <td>CHILDREN'S APRON DOLLY GIRL</td>\n",
              "      <td>6</td>\n",
              "      <td>7-Dec-17</td>\n",
              "      <td>2.10</td>\n",
              "      <td>12680.0</td>\n",
              "      <td>France</td>\n",
              "      <td>NaN</td>\n",
              "    </tr>\n",
              "    <tr>\n",
              "      <th>541906</th>\n",
              "      <td>581587</td>\n",
              "      <td>23254</td>\n",
              "      <td>CHILDRENS CUTLERY DOLLY GIRL</td>\n",
              "      <td>4</td>\n",
              "      <td>7-Dec-17</td>\n",
              "      <td>4.15</td>\n",
              "      <td>12680.0</td>\n",
              "      <td>France</td>\n",
              "      <td>NaN</td>\n",
              "    </tr>\n",
              "    <tr>\n",
              "      <th>541907</th>\n",
              "      <td>581587</td>\n",
              "      <td>23255</td>\n",
              "      <td>CHILDRENS CUTLERY CIRCUS PARADE</td>\n",
              "      <td>4</td>\n",
              "      <td>7-Dec-17</td>\n",
              "      <td>4.15</td>\n",
              "      <td>12680.0</td>\n",
              "      <td>France</td>\n",
              "      <td>NaN</td>\n",
              "    </tr>\n",
              "    <tr>\n",
              "      <th>541908</th>\n",
              "      <td>581587</td>\n",
              "      <td>22138</td>\n",
              "      <td>BAKING SET 9 PIECE RETROSPOT</td>\n",
              "      <td>3</td>\n",
              "      <td>7-Dec-17</td>\n",
              "      <td>4.95</td>\n",
              "      <td>12680.0</td>\n",
              "      <td>France</td>\n",
              "      <td>NaN</td>\n",
              "    </tr>\n",
              "  </tbody>\n",
              "</table>\n",
              "</div>"
            ],
            "text/plain": [
              "       InvoiceNo StockCode  ... Country  Unnamed: 8\n",
              "541904    581587     22613  ...  France         NaN\n",
              "541905    581587     22899  ...  France         NaN\n",
              "541906    581587     23254  ...  France         NaN\n",
              "541907    581587     23255  ...  France         NaN\n",
              "541908    581587     22138  ...  France         NaN\n",
              "\n",
              "[5 rows x 9 columns]"
            ]
          },
          "metadata": {},
          "execution_count": 3
        }
      ]
    },
    {
      "cell_type": "code",
      "metadata": {
        "colab": {
          "base_uri": "https://localhost:8080/"
        },
        "id": "rG4SURQmWUBR",
        "outputId": "fd00f7f4-d509-495e-c244-41875b433c73"
      },
      "source": [
        "#let's see what the data looks like\n",
        "df.info()"
      ],
      "execution_count": null,
      "outputs": [
        {
          "output_type": "stream",
          "name": "stdout",
          "text": [
            "<class 'pandas.core.frame.DataFrame'>\n",
            "RangeIndex: 541909 entries, 0 to 541908\n",
            "Data columns (total 9 columns):\n",
            " #   Column       Non-Null Count   Dtype  \n",
            "---  ------       --------------   -----  \n",
            " 0   InvoiceNo    541909 non-null  object \n",
            " 1   StockCode    541909 non-null  object \n",
            " 2   Description  540455 non-null  object \n",
            " 3   Quantity     541909 non-null  int64  \n",
            " 4   InvoiceDate  541909 non-null  object \n",
            " 5   UnitPrice    541909 non-null  float64\n",
            " 6   CustomerID   406829 non-null  float64\n",
            " 7   Country      541909 non-null  object \n",
            " 8   Unnamed: 8   0 non-null       float64\n",
            "dtypes: float64(3), int64(1), object(5)\n",
            "memory usage: 37.2+ MB\n"
          ]
        }
      ]
    },
    {
      "cell_type": "code",
      "metadata": {
        "id": "iGftC-lohkOv"
      },
      "source": [
        "#Let's add and additional column with the total revenue for purchase\n",
        "df['Total_Revenue']=df['Quantity']*df['UnitPrice']"
      ],
      "execution_count": 4,
      "outputs": []
    },
    {
      "cell_type": "code",
      "metadata": {
        "colab": {
          "base_uri": "https://localhost:8080/"
        },
        "id": "1nlnlHY6W8E4",
        "outputId": "29a3b0e3-5ac0-4ac0-ab0a-18f1ddbc7dbf"
      },
      "source": [
        "#Let´s see the NaN or null values in the df and evaluate if they affect the EDA or the clustering\n",
        "df.isna().sum()"
      ],
      "execution_count": null,
      "outputs": [
        {
          "output_type": "execute_result",
          "data": {
            "text/plain": [
              "InvoiceNo             0\n",
              "StockCode             0\n",
              "Description        1454\n",
              "Quantity              0\n",
              "InvoiceDate           0\n",
              "UnitPrice             0\n",
              "CustomerID       135080\n",
              "Country               0\n",
              "Unnamed: 8       541909\n",
              "Total_Revenue         0\n",
              "dtype: int64"
            ]
          },
          "metadata": {},
          "execution_count": 5
        }
      ]
    },
    {
      "cell_type": "code",
      "metadata": {
        "colab": {
          "base_uri": "https://localhost:8080/",
          "height": 417
        },
        "id": "C2WfXuv-Yu6A",
        "outputId": "952ec599-716a-4cce-b968-7c32d103c45a"
      },
      "source": [
        "msno.matrix(df,figsize=(8,5))"
      ],
      "execution_count": null,
      "outputs": [
        {
          "output_type": "execute_result",
          "data": {
            "text/plain": [
              "<matplotlib.axes._subplots.AxesSubplot at 0x7f995cbc2110>"
            ]
          },
          "metadata": {},
          "execution_count": 39
        },
        {
          "output_type": "display_data",
          "data": {
            "image/png": "[encoded data removed]",
            "text/plain": [
              "<Figure size 576x360 with 2 Axes>"
            ]
          },
          "metadata": {
            "needs_background": "light"
          }
        }
      ]
    },
    {
      "cell_type": "code",
      "metadata": {
        "id": "VT0zyOQqS1cD"
      },
      "source": [
        "#Droped the empty column 'Unnamed:8', NaN values in 'Description' column and any row with 0 values on it.\n",
        "df.drop(columns=['Unnamed: 8'], inplace=True)\n",
        "df=df[df['Description'].notna()]\n",
        "\n"
      ],
      "execution_count": 5,
      "outputs": []
    },
    {
      "cell_type": "markdown",
      "metadata": {
        "id": "bbkbWz_la3kg"
      },
      "source": [
        "#EDA\n",
        "* What was the total revenue?\n",
        "* In which months the sales were higher?\n",
        "* What products are the top 5 in sales and revenue?\n",
        "* Which products were returne more frequently?\n",
        "* What is the top 10 countries that purchesed the most?\n",
        "* What is the share of revenue for each cluster?"
      ]
    },
    {
      "cell_type": "code",
      "metadata": {
        "colab": {
          "base_uri": "https://localhost:8080/",
          "height": 408
        },
        "id": "9kxrocFwY9jP",
        "outputId": "ef63718f-80a8-47a6-e212-ff0d4e556b7b"
      },
      "source": [
        "#For EDA, I created a new df with NaN values in customerID filled with 0. The reason is that for EDA we are interested in what data can tell us about the sales.\n",
        "#For clustering we haver to drop this empty customerID as we'll analyze purchases per customer\n",
        "df_eda=df.fillna(0)\n"
      ],
      "execution_count": null,
      "outputs": [
        {
          "output_type": "execute_result",
          "data": {
            "text/html": [
              "<div>\n",
              "<style scoped>\n",
              "    .dataframe tbody tr th:only-of-type {\n",
              "        vertical-align: middle;\n",
              "    }\n",
              "\n",
              "    .dataframe tbody tr th {\n",
              "        vertical-align: top;\n",
              "    }\n",
              "\n",
              "    .dataframe thead th {\n",
              "        text-align: right;\n",
              "    }\n",
              "</style>\n",
              "<table border=\"1\" class=\"dataframe\">\n",
              "  <thead>\n",
              "    <tr style=\"text-align: right;\">\n",
              "      <th></th>\n",
              "      <th>InvoiceNo</th>\n",
              "      <th>StockCode</th>\n",
              "      <th>Description</th>\n",
              "      <th>Quantity</th>\n",
              "      <th>InvoiceDate</th>\n",
              "      <th>UnitPrice</th>\n",
              "      <th>CustomerID</th>\n",
              "      <th>Country</th>\n",
              "      <th>Total_Revenue</th>\n",
              "    </tr>\n",
              "  </thead>\n",
              "  <tbody>\n",
              "    <tr>\n",
              "      <th>0</th>\n",
              "      <td>536365</td>\n",
              "      <td>85123A</td>\n",
              "      <td>WHITE HANGING HEART T-LIGHT HOLDER</td>\n",
              "      <td>6</td>\n",
              "      <td>29-Nov-16</td>\n",
              "      <td>2.55</td>\n",
              "      <td>17850.0</td>\n",
              "      <td>United Kingdom</td>\n",
              "      <td>15.30</td>\n",
              "    </tr>\n",
              "    <tr>\n",
              "      <th>1</th>\n",
              "      <td>536365</td>\n",
              "      <td>71053</td>\n",
              "      <td>WHITE METAL LANTERN</td>\n",
              "      <td>6</td>\n",
              "      <td>29-Nov-16</td>\n",
              "      <td>3.39</td>\n",
              "      <td>17850.0</td>\n",
              "      <td>United Kingdom</td>\n",
              "      <td>20.34</td>\n",
              "    </tr>\n",
              "    <tr>\n",
              "      <th>2</th>\n",
              "      <td>536365</td>\n",
              "      <td>84406B</td>\n",
              "      <td>CREAM CUPID HEARTS COAT HANGER</td>\n",
              "      <td>8</td>\n",
              "      <td>29-Nov-16</td>\n",
              "      <td>2.75</td>\n",
              "      <td>17850.0</td>\n",
              "      <td>United Kingdom</td>\n",
              "      <td>22.00</td>\n",
              "    </tr>\n",
              "    <tr>\n",
              "      <th>3</th>\n",
              "      <td>536365</td>\n",
              "      <td>84029G</td>\n",
              "      <td>KNITTED UNION FLAG HOT WATER BOTTLE</td>\n",
              "      <td>6</td>\n",
              "      <td>29-Nov-16</td>\n",
              "      <td>3.39</td>\n",
              "      <td>17850.0</td>\n",
              "      <td>United Kingdom</td>\n",
              "      <td>20.34</td>\n",
              "    </tr>\n",
              "    <tr>\n",
              "      <th>4</th>\n",
              "      <td>536365</td>\n",
              "      <td>84029E</td>\n",
              "      <td>RED WOOLLY HOTTIE WHITE HEART.</td>\n",
              "      <td>6</td>\n",
              "      <td>29-Nov-16</td>\n",
              "      <td>3.39</td>\n",
              "      <td>17850.0</td>\n",
              "      <td>United Kingdom</td>\n",
              "      <td>20.34</td>\n",
              "    </tr>\n",
              "    <tr>\n",
              "      <th>...</th>\n",
              "      <td>...</td>\n",
              "      <td>...</td>\n",
              "      <td>...</td>\n",
              "      <td>...</td>\n",
              "      <td>...</td>\n",
              "      <td>...</td>\n",
              "      <td>...</td>\n",
              "      <td>...</td>\n",
              "      <td>...</td>\n",
              "    </tr>\n",
              "    <tr>\n",
              "      <th>541904</th>\n",
              "      <td>581587</td>\n",
              "      <td>22613</td>\n",
              "      <td>PACK OF 20 SPACEBOY NAPKINS</td>\n",
              "      <td>12</td>\n",
              "      <td>7-Dec-17</td>\n",
              "      <td>0.85</td>\n",
              "      <td>12680.0</td>\n",
              "      <td>France</td>\n",
              "      <td>10.20</td>\n",
              "    </tr>\n",
              "    <tr>\n",
              "      <th>541905</th>\n",
              "      <td>581587</td>\n",
              "      <td>22899</td>\n",
              "      <td>CHILDREN'S APRON DOLLY GIRL</td>\n",
              "      <td>6</td>\n",
              "      <td>7-Dec-17</td>\n",
              "      <td>2.10</td>\n",
              "      <td>12680.0</td>\n",
              "      <td>France</td>\n",
              "      <td>12.60</td>\n",
              "    </tr>\n",
              "    <tr>\n",
              "      <th>541906</th>\n",
              "      <td>581587</td>\n",
              "      <td>23254</td>\n",
              "      <td>CHILDRENS CUTLERY DOLLY GIRL</td>\n",
              "      <td>4</td>\n",
              "      <td>7-Dec-17</td>\n",
              "      <td>4.15</td>\n",
              "      <td>12680.0</td>\n",
              "      <td>France</td>\n",
              "      <td>16.60</td>\n",
              "    </tr>\n",
              "    <tr>\n",
              "      <th>541907</th>\n",
              "      <td>581587</td>\n",
              "      <td>23255</td>\n",
              "      <td>CHILDRENS CUTLERY CIRCUS PARADE</td>\n",
              "      <td>4</td>\n",
              "      <td>7-Dec-17</td>\n",
              "      <td>4.15</td>\n",
              "      <td>12680.0</td>\n",
              "      <td>France</td>\n",
              "      <td>16.60</td>\n",
              "    </tr>\n",
              "    <tr>\n",
              "      <th>541908</th>\n",
              "      <td>581587</td>\n",
              "      <td>22138</td>\n",
              "      <td>BAKING SET 9 PIECE RETROSPOT</td>\n",
              "      <td>3</td>\n",
              "      <td>7-Dec-17</td>\n",
              "      <td>4.95</td>\n",
              "      <td>12680.0</td>\n",
              "      <td>France</td>\n",
              "      <td>14.85</td>\n",
              "    </tr>\n",
              "  </tbody>\n",
              "</table>\n",
              "<p>539394 rows × 9 columns</p>\n",
              "</div>"
            ],
            "text/plain": [
              "       InvoiceNo StockCode  ...         Country  Total_Revenue\n",
              "0         536365    85123A  ...  United Kingdom          15.30\n",
              "1         536365     71053  ...  United Kingdom          20.34\n",
              "2         536365    84406B  ...  United Kingdom          22.00\n",
              "3         536365    84029G  ...  United Kingdom          20.34\n",
              "4         536365    84029E  ...  United Kingdom          20.34\n",
              "...          ...       ...  ...             ...            ...\n",
              "541904    581587     22613  ...          France          10.20\n",
              "541905    581587     22899  ...          France          12.60\n",
              "541906    581587     23254  ...          France          16.60\n",
              "541907    581587     23255  ...          France          16.60\n",
              "541908    581587     22138  ...          France          14.85\n",
              "\n",
              "[539394 rows x 9 columns]"
            ]
          },
          "metadata": {},
          "execution_count": 137
        }
      ]
    },
    {
      "cell_type": "code",
      "metadata": {
        "colab": {
          "base_uri": "https://localhost:8080/"
        },
        "id": "i-P2lLGvs-sG",
        "outputId": "7154ebb0-f458-4dc9-bcee-3789b7f10ae1"
      },
      "source": [
        "#What was the total revenue?\n",
        "Sum_revenue=df_eda.Total_Revenue.sum()\n",
        "print ('Total Revenue:\\n','$ ', round(Sum_revenue,2))"
      ],
      "execution_count": null,
      "outputs": [
        {
          "output_type": "stream",
          "name": "stdout",
          "text": [
            "Total Revenue:\n",
            " $  9747747.93\n"
          ]
        }
      ]
    },
    {
      "cell_type": "code",
      "metadata": {
        "id": "AxRmrcX-tXw3"
      },
      "source": [
        "#In which months the sales were higher?\n",
        "\n",
        "#let's separate the year and month\n",
        "import datetime as dt\n",
        "df_eda['InvoiceDate']=pd.to_datetime(df_eda['InvoiceDate'])\n",
        "\n",
        "df_eda['Month']=df_eda['InvoiceDate'].dt.month\n",
        "df_eda['Year']=df_eda['InvoiceDate'].dt.year"
      ],
      "execution_count": null,
      "outputs": []
    },
    {
      "cell_type": "code",
      "metadata": {
        "colab": {
          "base_uri": "https://localhost:8080/"
        },
        "id": "gtYxOcTexIgC",
        "outputId": "36a07d35-8af0-4ee2-dad2-9212a7636319"
      },
      "source": [
        "#total purchases per year\n",
        "by_month=df_eda.groupby(df_eda['InvoiceDate'].dt.year).count().InvoiceDate\n",
        "by_month"
      ],
      "execution_count": null,
      "outputs": [
        {
          "output_type": "execute_result",
          "data": {
            "text/plain": [
              "InvoiceDate\n",
              "2016     42481\n",
              "2017    499428\n",
              "Name: InvoiceDate, dtype: int64"
            ]
          },
          "metadata": {},
          "execution_count": 6
        }
      ]
    },
    {
      "cell_type": "code",
      "metadata": {
        "colab": {
          "base_uri": "https://localhost:8080/"
        },
        "id": "MCsDpOMWCykf",
        "outputId": "c19b8f5f-a709-48a5-89d2-fc1380698f40"
      },
      "source": [
        "Total_per_month=df_eda.groupby(['Year','Month'])['Total_Revenue'].sum()\n",
        "Total_per_month"
      ],
      "execution_count": null,
      "outputs": [
        {
          "output_type": "execute_result",
          "data": {
            "text/plain": [
              "Year  Month\n",
              "2016  11        104842.840\n",
              "      12        644114.180\n",
              "2017  1         609481.930\n",
              "      2         492349.140\n",
              "      3         663890.700\n",
              "      4         475780.001\n",
              "      5         769062.060\n",
              "      6         651601.730\n",
              "      7         704438.401\n",
              "      8         725412.070\n",
              "      9         952269.532\n",
              "      10       1133061.700\n",
              "      11       1496272.650\n",
              "      12        325171.000\n",
              "Name: Total_Revenue, dtype: float64"
            ]
          },
          "metadata": {},
          "execution_count": 7
        }
      ]
    },
    {
      "cell_type": "code",
      "metadata": {
        "colab": {
          "base_uri": "https://localhost:8080/",
          "height": 403
        },
        "id": "yu5h2w47FxJ6",
        "outputId": "be223228-c926-4357-9701-389a79ea168c"
      },
      "source": [
        "Total_per_month.plot(kind='bar', color='#63b3c0',figsize=(8,5))"
      ],
      "execution_count": null,
      "outputs": [
        {
          "output_type": "execute_result",
          "data": {
            "text/plain": [
              "<matplotlib.axes._subplots.AxesSubplot at 0x7fa95b2483d0>"
            ]
          },
          "metadata": {},
          "execution_count": 8
        },
        {
          "output_type": "display_data",
          "data": {
            "image/png": "[encoded data removed]",
            "text/plain": [
              "<Figure size 576x360 with 1 Axes>"
            ]
          },
          "metadata": {
            "needs_background": "light"
          }
        }
      ]
    },
    {
      "cell_type": "code",
      "metadata": {
        "colab": {
          "base_uri": "https://localhost:8080/",
          "height": 200
        },
        "id": "WcHbskpstZDA",
        "outputId": "4e1d435f-8c1f-41e3-ac90-5dfc60736570"
      },
      "source": [
        "#What products are the top 5 in sales? \n",
        "Top_products=df_eda[['StockCode','Description','Quantity','Total_Revenue']].groupby(['StockCode','Description'],as_index=False).sum(['Quantity','Total_Revenue']).sort_values(by='Quantity',ascending=False)\n",
        "#WE have to exclude the rows with no stockcode\n",
        "Top_products=Top_products[Top_products['StockCode'].str.contains('^[1-9]')]\n",
        "Top_products.head()"
      ],
      "execution_count": null,
      "outputs": [
        {
          "output_type": "execute_result",
          "data": {
            "text/html": [
              "<div>\n",
              "<style scoped>\n",
              "    .dataframe tbody tr th:only-of-type {\n",
              "        vertical-align: middle;\n",
              "    }\n",
              "\n",
              "    .dataframe tbody tr th {\n",
              "        vertical-align: top;\n",
              "    }\n",
              "\n",
              "    .dataframe thead th {\n",
              "        text-align: right;\n",
              "    }\n",
              "</style>\n",
              "<table border=\"1\" class=\"dataframe\">\n",
              "  <thead>\n",
              "    <tr style=\"text-align: right;\">\n",
              "      <th></th>\n",
              "      <th>StockCode</th>\n",
              "      <th>Description</th>\n",
              "      <th>Quantity</th>\n",
              "      <th>Total_Revenue</th>\n",
              "    </tr>\n",
              "  </thead>\n",
              "  <tbody>\n",
              "    <tr>\n",
              "      <th>3135</th>\n",
              "      <td>84077</td>\n",
              "      <td>WORLD WAR 2 GLIDERS ASSTD DESIGNS</td>\n",
              "      <td>53847</td>\n",
              "      <td>13587.93</td>\n",
              "    </tr>\n",
              "    <tr>\n",
              "      <th>3633</th>\n",
              "      <td>85099B</td>\n",
              "      <td>JUMBO BAG RED RETROSPOT</td>\n",
              "      <td>47359</td>\n",
              "      <td>92356.03</td>\n",
              "    </tr>\n",
              "    <tr>\n",
              "      <th>3424</th>\n",
              "      <td>84879</td>\n",
              "      <td>ASSORTED COLOUR BIRD ORNAMENT</td>\n",
              "      <td>36381</td>\n",
              "      <td>58959.73</td>\n",
              "    </tr>\n",
              "    <tr>\n",
              "      <th>1132</th>\n",
              "      <td>22197</td>\n",
              "      <td>POPCORN HOLDER</td>\n",
              "      <td>36334</td>\n",
              "      <td>33969.46</td>\n",
              "    </tr>\n",
              "    <tr>\n",
              "      <th>449</th>\n",
              "      <td>21212</td>\n",
              "      <td>PACK OF 72 RETROSPOT CAKE CASES</td>\n",
              "      <td>36039</td>\n",
              "      <td>21059.72</td>\n",
              "    </tr>\n",
              "  </tbody>\n",
              "</table>\n",
              "</div>"
            ],
            "text/plain": [
              "     StockCode                        Description  Quantity  Total_Revenue\n",
              "3135     84077  WORLD WAR 2 GLIDERS ASSTD DESIGNS     53847       13587.93\n",
              "3633    85099B            JUMBO BAG RED RETROSPOT     47359       92356.03\n",
              "3424     84879      ASSORTED COLOUR BIRD ORNAMENT     36381       58959.73\n",
              "1132     22197                     POPCORN HOLDER     36334       33969.46\n",
              "449      21212    PACK OF 72 RETROSPOT CAKE CASES     36039       21059.72"
            ]
          },
          "metadata": {},
          "execution_count": 205
        }
      ]
    },
    {
      "cell_type": "code",
      "metadata": {
        "colab": {
          "base_uri": "https://localhost:8080/",
          "height": 200
        },
        "id": "hEXrwMEM62jG",
        "outputId": "6c297a68-a53c-43d4-a5f0-0ec0b5afd883"
      },
      "source": [
        "#Let´s see the top 5 in revenue, let's exclude \n",
        "Top_revenue=Top_products.sort_values(by='Total_Revenue', ascending=False)\n",
        "Top_revenue.head(5)"
      ],
      "execution_count": null,
      "outputs": [
        {
          "output_type": "execute_result",
          "data": {
            "text/html": [
              "<div>\n",
              "<style scoped>\n",
              "    .dataframe tbody tr th:only-of-type {\n",
              "        vertical-align: middle;\n",
              "    }\n",
              "\n",
              "    .dataframe tbody tr th {\n",
              "        vertical-align: top;\n",
              "    }\n",
              "\n",
              "    .dataframe thead th {\n",
              "        text-align: right;\n",
              "    }\n",
              "</style>\n",
              "<table border=\"1\" class=\"dataframe\">\n",
              "  <thead>\n",
              "    <tr style=\"text-align: right;\">\n",
              "      <th></th>\n",
              "      <th>StockCode</th>\n",
              "      <th>Description</th>\n",
              "      <th>Quantity</th>\n",
              "      <th>Total_Revenue</th>\n",
              "    </tr>\n",
              "  </thead>\n",
              "  <tbody>\n",
              "    <tr>\n",
              "      <th>1343</th>\n",
              "      <td>22423</td>\n",
              "      <td>REGENCY CAKESTAND 3 TIER</td>\n",
              "      <td>13022</td>\n",
              "      <td>164762.19</td>\n",
              "    </tr>\n",
              "    <tr>\n",
              "      <th>2882</th>\n",
              "      <td>47566</td>\n",
              "      <td>PARTY BUNTING</td>\n",
              "      <td>18018</td>\n",
              "      <td>98302.98</td>\n",
              "    </tr>\n",
              "    <tr>\n",
              "      <th>3654</th>\n",
              "      <td>85123A</td>\n",
              "      <td>WHITE HANGING HEART T-LIGHT HOLDER</td>\n",
              "      <td>35021</td>\n",
              "      <td>97715.99</td>\n",
              "    </tr>\n",
              "    <tr>\n",
              "      <th>3633</th>\n",
              "      <td>85099B</td>\n",
              "      <td>JUMBO BAG RED RETROSPOT</td>\n",
              "      <td>47359</td>\n",
              "      <td>92356.03</td>\n",
              "    </tr>\n",
              "    <tr>\n",
              "      <th>2032</th>\n",
              "      <td>23084</td>\n",
              "      <td>RABBIT NIGHT LIGHT</td>\n",
              "      <td>30680</td>\n",
              "      <td>66756.59</td>\n",
              "    </tr>\n",
              "  </tbody>\n",
              "</table>\n",
              "</div>"
            ],
            "text/plain": [
              "     StockCode                         Description  Quantity  Total_Revenue\n",
              "1343     22423            REGENCY CAKESTAND 3 TIER     13022      164762.19\n",
              "2882     47566                       PARTY BUNTING     18018       98302.98\n",
              "3654    85123A  WHITE HANGING HEART T-LIGHT HOLDER     35021       97715.99\n",
              "3633    85099B             JUMBO BAG RED RETROSPOT     47359       92356.03\n",
              "2032     23084                  RABBIT NIGHT LIGHT     30680       66756.59"
            ]
          },
          "metadata": {},
          "execution_count": 207
        }
      ]
    },
    {
      "cell_type": "code",
      "metadata": {
        "colab": {
          "base_uri": "https://localhost:8080/",
          "height": 638
        },
        "id": "4_VtJv8lOu7x",
        "outputId": "84805913-021b-4452-cc70-090ad447ca15"
      },
      "source": [
        "f, axis=plt.subplots(2,1,figsize=(5,10))\n",
        "ax2=sns.barplot(x='Quantity', y='Description', data=Top_products.head(5), color='#63b3c0',ax=axis[0]).set(title='Top 5 products in sales')\n",
        "\n",
        "\n",
        "ax3=sns.barplot(x='Total_Revenue',y='Description', data=Top_revenue.head(5), color='#979095',ax=axis[1])\n",
        "ax3.set_xticks([50000, 100000, 150000, 200000,250000])\n",
        "ax3.set_xticklabels(['500K','100K','150K','200K','250k'])\n",
        "plt.title('Top 5 products in revenue')\n"
      ],
      "execution_count": null,
      "outputs": [
        {
          "output_type": "execute_result",
          "data": {
            "text/plain": [
              "Text(0.5, 1.0, 'Top 5 products in revenue')"
            ]
          },
          "metadata": {},
          "execution_count": 235
        },
        {
          "output_type": "display_data",
          "data": {
            "image/png": "[encoded data removed]",
            "text/plain": [
              "<Figure size 360x720 with 2 Axes>"
            ]
          },
          "metadata": {
            "needs_background": "light"
          }
        }
      ]
    },
    {
      "cell_type": "code",
      "metadata": {
        "colab": {
          "base_uri": "https://localhost:8080/",
          "height": 408
        },
        "id": "gkxMvtTk7xVm",
        "outputId": "c54f5d9b-5a94-47c0-88ea-3997913227df"
      },
      "source": [
        "#Let's create a df with the products with negative revenue\n",
        "df_loss=df_eda[['StockCode','Description','Quantity','Total_Revenue']].loc[df_eda['Total_Revenue']<0].sort_values(by='Total_Revenue', ascending=True)\n",
        "\n",
        "#We need only the products\n",
        "df_loss=df_loss[df_loss['StockCode'].str.contains('^[1-9]')]\n",
        "df_loss.groupby(['StockCode','Description'], as_index=False).sum().sort_values(by='Quantity')\n"
      ],
      "execution_count": null,
      "outputs": [
        {
          "output_type": "execute_result",
          "data": {
            "text/html": [
              "<div>\n",
              "<style scoped>\n",
              "    .dataframe tbody tr th:only-of-type {\n",
              "        vertical-align: middle;\n",
              "    }\n",
              "\n",
              "    .dataframe tbody tr th {\n",
              "        vertical-align: top;\n",
              "    }\n",
              "\n",
              "    .dataframe thead th {\n",
              "        text-align: right;\n",
              "    }\n",
              "</style>\n",
              "<table border=\"1\" class=\"dataframe\">\n",
              "  <thead>\n",
              "    <tr style=\"text-align: right;\">\n",
              "      <th></th>\n",
              "      <th>StockCode</th>\n",
              "      <th>Description</th>\n",
              "      <th>Quantity</th>\n",
              "      <th>Total_Revenue</th>\n",
              "    </tr>\n",
              "  </thead>\n",
              "  <tbody>\n",
              "    <tr>\n",
              "      <th>1529</th>\n",
              "      <td>23843</td>\n",
              "      <td>PAPER CRAFT , LITTLE BIRDIE</td>\n",
              "      <td>-80995</td>\n",
              "      <td>-168469.60</td>\n",
              "    </tr>\n",
              "    <tr>\n",
              "      <th>1270</th>\n",
              "      <td>23166</td>\n",
              "      <td>MEDIUM CERAMIC TOP STORAGE JAR</td>\n",
              "      <td>-74494</td>\n",
              "      <td>-77479.64</td>\n",
              "    </tr>\n",
              "    <tr>\n",
              "      <th>1688</th>\n",
              "      <td>84347</td>\n",
              "      <td>ROTATING SILVER ANGELS T-LIGHT HLDR</td>\n",
              "      <td>-9376</td>\n",
              "      <td>-321.60</td>\n",
              "    </tr>\n",
              "    <tr>\n",
              "      <th>133</th>\n",
              "      <td>21108</td>\n",
              "      <td>FAIRY CAKE FLANNEL ASSORTED COLOUR</td>\n",
              "      <td>-3150</td>\n",
              "      <td>-6591.42</td>\n",
              "    </tr>\n",
              "    <tr>\n",
              "      <th>96</th>\n",
              "      <td>20971</td>\n",
              "      <td>PINK BLUE FELT CRAFT TRINKET BOX</td>\n",
              "      <td>-2617</td>\n",
              "      <td>-2778.77</td>\n",
              "    </tr>\n",
              "    <tr>\n",
              "      <th>...</th>\n",
              "      <td>...</td>\n",
              "      <td>...</td>\n",
              "      <td>...</td>\n",
              "      <td>...</td>\n",
              "    </tr>\n",
              "    <tr>\n",
              "      <th>1463</th>\n",
              "      <td>23419</td>\n",
              "      <td>HOME SWEET HOME BOTTLE</td>\n",
              "      <td>-1</td>\n",
              "      <td>-2.08</td>\n",
              "    </tr>\n",
              "    <tr>\n",
              "      <th>1793</th>\n",
              "      <td>84971S</td>\n",
              "      <td>SMALL HEART FLOWERS HOOK</td>\n",
              "      <td>-1</td>\n",
              "      <td>-0.85</td>\n",
              "    </tr>\n",
              "    <tr>\n",
              "      <th>1458</th>\n",
              "      <td>23411</td>\n",
              "      <td>TRELLIS COAT RACK</td>\n",
              "      <td>-1</td>\n",
              "      <td>-4.95</td>\n",
              "    </tr>\n",
              "    <tr>\n",
              "      <th>166</th>\n",
              "      <td>21201</td>\n",
              "      <td>TROPICAL  HONEYCOMB PAPER GARLAND</td>\n",
              "      <td>-1</td>\n",
              "      <td>-2.55</td>\n",
              "    </tr>\n",
              "    <tr>\n",
              "      <th>431</th>\n",
              "      <td>21935</td>\n",
              "      <td>SUKI  SHOULDER BAG</td>\n",
              "      <td>-1</td>\n",
              "      <td>-1.65</td>\n",
              "    </tr>\n",
              "  </tbody>\n",
              "</table>\n",
              "<p>1966 rows × 4 columns</p>\n",
              "</div>"
            ],
            "text/plain": [
              "     StockCode                          Description  Quantity  Total_Revenue\n",
              "1529     23843          PAPER CRAFT , LITTLE BIRDIE    -80995     -168469.60\n",
              "1270     23166       MEDIUM CERAMIC TOP STORAGE JAR    -74494      -77479.64\n",
              "1688     84347  ROTATING SILVER ANGELS T-LIGHT HLDR     -9376        -321.60\n",
              "133      21108   FAIRY CAKE FLANNEL ASSORTED COLOUR     -3150       -6591.42\n",
              "96       20971     PINK BLUE FELT CRAFT TRINKET BOX     -2617       -2778.77\n",
              "...        ...                                  ...       ...            ...\n",
              "1463     23419              HOME SWEET HOME BOTTLE         -1          -2.08\n",
              "1793    84971S            SMALL HEART FLOWERS HOOK         -1          -0.85\n",
              "1458     23411                    TRELLIS COAT RACK        -1          -4.95\n",
              "166      21201   TROPICAL  HONEYCOMB PAPER GARLAND         -1          -2.55\n",
              "431      21935                   SUKI  SHOULDER BAG        -1          -1.65\n",
              "\n",
              "[1966 rows x 4 columns]"
            ]
          },
          "metadata": {},
          "execution_count": 226
        }
      ]
    },
    {
      "cell_type": "code",
      "metadata": {
        "colab": {
          "base_uri": "https://localhost:8080/",
          "height": 322
        },
        "id": "bPwvpaCvV8-A",
        "outputId": "775219f6-284b-4d3d-99af-e338049e2821"
      },
      "source": [
        "#Let's see the top 5 returnet products\n",
        "f, axis=plt.subplots(figsize=(5,3))\n",
        "ax4=sns.barplot(x='Quantity',y='Description',data=df_loss.head(5),color='#63b3c0')\n",
        "plt.gca().invert_xaxis()\n",
        "ax4.set_xticks([0,-20000,-40000,-60000,-80000,-100000])\n",
        "ax4.set_xticklabels(['0','-20k','-40K','-60k','-80k','-100k'])"
      ],
      "execution_count": null,
      "outputs": [
        {
          "output_type": "execute_result",
          "data": {
            "text/plain": [
              "[Text(0, 0, '0'),\n",
              " Text(0, 0, '-20k'),\n",
              " Text(0, 0, '-40K'),\n",
              " Text(0, 0, '-60k'),\n",
              " Text(0, 0, '-80k'),\n",
              " Text(0, 0, '-100k')]"
            ]
          },
          "metadata": {},
          "execution_count": 230
        },
        {
          "output_type": "display_data",
          "data": {
            "image/png": "[encoded data removed]",
            "text/plain": [
              "<Figure size 360x216 with 1 Axes>"
            ]
          },
          "metadata": {
            "needs_background": "light"
          }
        }
      ]
    },
    {
      "cell_type": "code",
      "metadata": {
        "colab": {
          "base_uri": "https://localhost:8080/"
        },
        "id": "-nr0BGIa8HG2",
        "outputId": "8bb4c8e0-5517-4b2e-c16c-70a38bb5cb59"
      },
      "source": [
        "#What was the total loss\n",
        "df_loss.sum()"
      ],
      "execution_count": null,
      "outputs": [
        {
          "output_type": "execute_result",
          "data": {
            "text/plain": [
              "StockCode        23843231662110885123A48185231132117547566B2219...\n",
              "Description      PAPER CRAFT , LITTLE BIRDIEMEDIUM CERAMIC TOP ...\n",
              "Quantity                                                   -272030\n",
              "Total_Revenue                                              -478724\n",
              "dtype: object"
            ]
          },
          "metadata": {},
          "execution_count": 236
        }
      ]
    },
    {
      "cell_type": "code",
      "metadata": {
        "id": "MkUxD-fDtfEW",
        "colab": {
          "base_uri": "https://localhost:8080/",
          "height": 200
        },
        "outputId": "815dfacd-c48a-4029-f212-42388be64b19"
      },
      "source": [
        "#What is the top 5 countries that purchesed the most?\n",
        "df_countries=df_eda[['Country','Quantity','Total_Revenue']].groupby(['Country'],as_index=False).sum().sort_values(by='Quantity',ascending=False)\n",
        "df_countries.head()"
      ],
      "execution_count": null,
      "outputs": [
        {
          "output_type": "execute_result",
          "data": {
            "text/html": [
              "<div>\n",
              "<style scoped>\n",
              "    .dataframe tbody tr th:only-of-type {\n",
              "        vertical-align: middle;\n",
              "    }\n",
              "\n",
              "    .dataframe tbody tr th {\n",
              "        vertical-align: top;\n",
              "    }\n",
              "\n",
              "    .dataframe thead th {\n",
              "        text-align: right;\n",
              "    }\n",
              "</style>\n",
              "<table border=\"1\" class=\"dataframe\">\n",
              "  <thead>\n",
              "    <tr style=\"text-align: right;\">\n",
              "      <th></th>\n",
              "      <th>Country</th>\n",
              "      <th>Quantity</th>\n",
              "      <th>Total_Revenue</th>\n",
              "    </tr>\n",
              "  </thead>\n",
              "  <tbody>\n",
              "    <tr>\n",
              "      <th>36</th>\n",
              "      <td>United Kingdom</td>\n",
              "      <td>4399359</td>\n",
              "      <td>8.187806e+06</td>\n",
              "    </tr>\n",
              "    <tr>\n",
              "      <th>24</th>\n",
              "      <td>Netherlands</td>\n",
              "      <td>199552</td>\n",
              "      <td>2.846615e+05</td>\n",
              "    </tr>\n",
              "    <tr>\n",
              "      <th>10</th>\n",
              "      <td>EIRE</td>\n",
              "      <td>142363</td>\n",
              "      <td>2.632768e+05</td>\n",
              "    </tr>\n",
              "    <tr>\n",
              "      <th>14</th>\n",
              "      <td>Germany</td>\n",
              "      <td>117446</td>\n",
              "      <td>2.216982e+05</td>\n",
              "    </tr>\n",
              "    <tr>\n",
              "      <th>13</th>\n",
              "      <td>France</td>\n",
              "      <td>110479</td>\n",
              "      <td>1.974039e+05</td>\n",
              "    </tr>\n",
              "  </tbody>\n",
              "</table>\n",
              "</div>"
            ],
            "text/plain": [
              "           Country  Quantity  Total_Revenue\n",
              "36  United Kingdom   4399359   8.187806e+06\n",
              "24     Netherlands    199552   2.846615e+05\n",
              "10            EIRE    142363   2.632768e+05\n",
              "14         Germany    117446   2.216982e+05\n",
              "13          France    110479   1.974039e+05"
            ]
          },
          "metadata": {},
          "execution_count": 231
        }
      ]
    },
    {
      "cell_type": "code",
      "metadata": {
        "colab": {
          "base_uri": "https://localhost:8080/",
          "height": 351
        },
        "id": "OZS7nwBhVAmy",
        "outputId": "dce004b5-f3bd-4bef-a715-b420ab2111de"
      },
      "source": [
        "top_countries=df_countries.head(10).sort_values('Total_Revenue', ascending=False)\n",
        "top_countries['Revenue_%']=top_countries['Total_Revenue']/9747747.93\n",
        "top_countries"
      ],
      "execution_count": null,
      "outputs": [
        {
          "output_type": "execute_result",
          "data": {
            "text/html": [
              "<div>\n",
              "<style scoped>\n",
              "    .dataframe tbody tr th:only-of-type {\n",
              "        vertical-align: middle;\n",
              "    }\n",
              "\n",
              "    .dataframe tbody tr th {\n",
              "        vertical-align: top;\n",
              "    }\n",
              "\n",
              "    .dataframe thead th {\n",
              "        text-align: right;\n",
              "    }\n",
              "</style>\n",
              "<table border=\"1\" class=\"dataframe\">\n",
              "  <thead>\n",
              "    <tr style=\"text-align: right;\">\n",
              "      <th></th>\n",
              "      <th>Country</th>\n",
              "      <th>Quantity</th>\n",
              "      <th>Total_Revenue</th>\n",
              "      <th>Revenue_%</th>\n",
              "    </tr>\n",
              "  </thead>\n",
              "  <tbody>\n",
              "    <tr>\n",
              "      <th>36</th>\n",
              "      <td>United Kingdom</td>\n",
              "      <td>4399359</td>\n",
              "      <td>8.187806e+06</td>\n",
              "      <td>0.839969</td>\n",
              "    </tr>\n",
              "    <tr>\n",
              "      <th>24</th>\n",
              "      <td>Netherlands</td>\n",
              "      <td>199552</td>\n",
              "      <td>2.846615e+05</td>\n",
              "      <td>0.029203</td>\n",
              "    </tr>\n",
              "    <tr>\n",
              "      <th>10</th>\n",
              "      <td>EIRE</td>\n",
              "      <td>142363</td>\n",
              "      <td>2.632768e+05</td>\n",
              "      <td>0.027009</td>\n",
              "    </tr>\n",
              "    <tr>\n",
              "      <th>14</th>\n",
              "      <td>Germany</td>\n",
              "      <td>117446</td>\n",
              "      <td>2.216982e+05</td>\n",
              "      <td>0.022744</td>\n",
              "    </tr>\n",
              "    <tr>\n",
              "      <th>13</th>\n",
              "      <td>France</td>\n",
              "      <td>110479</td>\n",
              "      <td>1.974039e+05</td>\n",
              "      <td>0.020251</td>\n",
              "    </tr>\n",
              "    <tr>\n",
              "      <th>0</th>\n",
              "      <td>Australia</td>\n",
              "      <td>83345</td>\n",
              "      <td>1.370773e+05</td>\n",
              "      <td>0.014062</td>\n",
              "    </tr>\n",
              "    <tr>\n",
              "      <th>33</th>\n",
              "      <td>Switzerland</td>\n",
              "      <td>30324</td>\n",
              "      <td>5.638535e+04</td>\n",
              "      <td>0.005784</td>\n",
              "    </tr>\n",
              "    <tr>\n",
              "      <th>31</th>\n",
              "      <td>Spain</td>\n",
              "      <td>26813</td>\n",
              "      <td>5.477458e+04</td>\n",
              "      <td>0.005619</td>\n",
              "    </tr>\n",
              "    <tr>\n",
              "      <th>32</th>\n",
              "      <td>Sweden</td>\n",
              "      <td>35637</td>\n",
              "      <td>3.659591e+04</td>\n",
              "      <td>0.003754</td>\n",
              "    </tr>\n",
              "    <tr>\n",
              "      <th>20</th>\n",
              "      <td>Japan</td>\n",
              "      <td>25218</td>\n",
              "      <td>3.534062e+04</td>\n",
              "      <td>0.003626</td>\n",
              "    </tr>\n",
              "  </tbody>\n",
              "</table>\n",
              "</div>"
            ],
            "text/plain": [
              "           Country  Quantity  Total_Revenue  Revenue_%\n",
              "36  United Kingdom   4399359   8.187806e+06   0.839969\n",
              "24     Netherlands    199552   2.846615e+05   0.029203\n",
              "10            EIRE    142363   2.632768e+05   0.027009\n",
              "14         Germany    117446   2.216982e+05   0.022744\n",
              "13          France    110479   1.974039e+05   0.020251\n",
              "0        Australia     83345   1.370773e+05   0.014062\n",
              "33     Switzerland     30324   5.638535e+04   0.005784\n",
              "31           Spain     26813   5.477458e+04   0.005619\n",
              "32          Sweden     35637   3.659591e+04   0.003754\n",
              "20           Japan     25218   3.534062e+04   0.003626"
            ]
          },
          "metadata": {},
          "execution_count": 232
        }
      ]
    },
    {
      "cell_type": "code",
      "metadata": {
        "colab": {
          "base_uri": "https://localhost:8080/",
          "height": 366
        },
        "id": "ET6qQYGmKEcn",
        "outputId": "98b9790e-b933-4e03-f626-370d960a42e4"
      },
      "source": [
        "fig, axis=plt.subplots(1,1,figsize=(6,5))\n",
        "ax1=sns.barplot(y='Country', x='Total_Revenue', data=top_countries, color='#63b3c0')\n",
        "ax1.set_xticks([1000000,2000000, 3000000, 4000000, 5000000, 6000000, 7000000, 8000000])\n",
        "ax1.set_xticklabels(['1M','2M','3M','4M','5M','6M','7M','8M'])\n",
        "plt.xlabel('Revenue in Million')\n",
        "plt.title('Top 10 countries that purchase the most')"
      ],
      "execution_count": null,
      "outputs": [
        {
          "output_type": "execute_result",
          "data": {
            "text/plain": [
              "Text(0.5, 1.0, 'Top 10 countries that purchase the most')"
            ]
          },
          "metadata": {},
          "execution_count": 233
        },
        {
          "output_type": "display_data",
          "data": {
            "image/png": "[encoded data removed]",
            "text/plain": [
              "<Figure size 432x360 with 1 Axes>"
            ]
          },
          "metadata": {
            "needs_background": "light"
          }
        }
      ]
    },
    {
      "cell_type": "code",
      "metadata": {
        "id": "D-HnuKEAtho3"
      },
      "source": [
        "#What is the share of revenue for each cluster?\n",
        "#To answer this question\n",
        "df_share=df_clustering[['cluster_km','Total_Revenue']].groupby(['cluster_km'],as_index=False).sum().sort_values(by='Total_Revenue',ascending=False)"
      ],
      "execution_count": null,
      "outputs": []
    },
    {
      "cell_type": "code",
      "metadata": {
        "id": "P9PGbF502ULR"
      },
      "source": [
        "#Let's calculate the share % for each cluster\n",
        "df_share['share (%)']=df_share['Total_Revenue']/[df_share['Total_Revenue'].sum()]*100\n",
        "df_share['share (%)']=df_share['share (%)'].round(2)"
      ],
      "execution_count": null,
      "outputs": []
    },
    {
      "cell_type": "code",
      "metadata": {
        "colab": {
          "base_uri": "https://localhost:8080/",
          "height": 170
        },
        "id": "vzhj3Ycq3o5h",
        "outputId": "be5b34c0-10e3-4a6b-8986-97e330c1e3d6"
      },
      "source": [
        "#Let's see how many clients have each cluster\n",
        "df_share['Total_clients']=df_clustering['cluster_km'].value_counts()\n",
        "df_share"
      ],
      "execution_count": null,
      "outputs": [
        {
          "output_type": "execute_result",
          "data": {
            "text/html": [
              "<div>\n",
              "<style scoped>\n",
              "    .dataframe tbody tr th:only-of-type {\n",
              "        vertical-align: middle;\n",
              "    }\n",
              "\n",
              "    .dataframe tbody tr th {\n",
              "        vertical-align: top;\n",
              "    }\n",
              "\n",
              "    .dataframe thead th {\n",
              "        text-align: right;\n",
              "    }\n",
              "</style>\n",
              "<table border=\"1\" class=\"dataframe\">\n",
              "  <thead>\n",
              "    <tr style=\"text-align: right;\">\n",
              "      <th></th>\n",
              "      <th>cluster_km</th>\n",
              "      <th>Total_Revenue</th>\n",
              "      <th>share (%)</th>\n",
              "      <th>Total_clients</th>\n",
              "    </tr>\n",
              "  </thead>\n",
              "  <tbody>\n",
              "    <tr>\n",
              "      <th>2</th>\n",
              "      <td>2</td>\n",
              "      <td>3634531.76</td>\n",
              "      <td>49.75</td>\n",
              "      <td>4007</td>\n",
              "    </tr>\n",
              "    <tr>\n",
              "      <th>0</th>\n",
              "      <td>0</td>\n",
              "      <td>2354147.91</td>\n",
              "      <td>32.22</td>\n",
              "      <td>320</td>\n",
              "    </tr>\n",
              "    <tr>\n",
              "      <th>1</th>\n",
              "      <td>1</td>\n",
              "      <td>935592.31</td>\n",
              "      <td>12.81</td>\n",
              "      <td>25</td>\n",
              "    </tr>\n",
              "    <tr>\n",
              "      <th>3</th>\n",
              "      <td>3</td>\n",
              "      <td>381700.18</td>\n",
              "      <td>5.22</td>\n",
              "      <td>5</td>\n",
              "    </tr>\n",
              "  </tbody>\n",
              "</table>\n",
              "</div>"
            ],
            "text/plain": [
              "   cluster_km  Total_Revenue  share (%)  Total_clients\n",
              "2           2     3634531.76      49.75           4007\n",
              "0           0     2354147.91      32.22            320\n",
              "1           1      935592.31      12.81             25\n",
              "3           3      381700.18       5.22              5"
            ]
          },
          "metadata": {},
          "execution_count": 199
        }
      ]
    },
    {
      "cell_type": "code",
      "metadata": {
        "id": "DE0SIWMZ6ruX"
      },
      "source": [
        "#We can represent all these shares in a pie chart"
      ],
      "execution_count": null,
      "outputs": []
    },
    {
      "cell_type": "code",
      "metadata": {
        "colab": {
          "base_uri": "https://localhost:8080/",
          "height": 373
        },
        "id": "EnhZ53M260wd",
        "outputId": "e36e6b06-1851-41ed-c787-f10a059832c4"
      },
      "source": [
        "colors=['#63b3c0','#66888f','#979095','#d9d9d9']\n",
        "sns.set_palette(sns.color_palette(colors))\n",
        "df_share.plot.pie(y='share (%)', figsize=(6,6), labels=['cluster 2','cluster 0','cluster 1','cluster 3'],autopct='%.0f%%')"
      ],
      "execution_count": null,
      "outputs": [
        {
          "output_type": "execute_result",
          "data": {
            "text/plain": [
              "<matplotlib.axes._subplots.AxesSubplot at 0x7f48ef5d8ad0>"
            ]
          },
          "metadata": {},
          "execution_count": 200
        },
        {
          "output_type": "display_data",
          "data": {
            "image/png": "[encoded data removed]",
            "text/plain": [
              "<Figure size 432x432 with 1 Axes>"
            ]
          },
          "metadata": {}
        }
      ]
    },
    {
      "cell_type": "markdown",
      "metadata": {
        "id": "7OQzVMbTa5oQ"
      },
      "source": [
        "#Clustering algorithm\n",
        "\n",
        "For clustering, we need to identify customers with similar purchases behavior and then group them into clusters. \n",
        "* identify the number of customer segments\n",
        "* Find the customers who are hightly valued"
      ]
    },
    {
      "cell_type": "code",
      "metadata": {
        "id": "tyVO2DTkPyVY"
      },
      "source": [
        "#For clustering, we need to drop the rows with no product code (Amazon fee, postage, bank charges, and others). There are 2933 rows to drop.\n",
        "df_products=df[df['StockCode'].str.contains('^[1-9]')]"
      ],
      "execution_count": 6,
      "outputs": []
    },
    {
      "cell_type": "code",
      "metadata": {
        "colab": {
          "base_uri": "https://localhost:8080/",
          "height": 200
        },
        "id": "cidtfGoPa5QP",
        "outputId": "2c7aca33-638e-4b34-f6b7-05c87628df6c"
      },
      "source": [
        "#let's group the purchases by customer\n",
        "df_sales=sqldf(\"SELECT CustomerID, COUNTRY, COUNT(InvoiceNo) AS Total_purchases, SUM(Total_Revenue) as Total_Revenue, SUM(Quantity) as Quantity FROM df_products GROUP BY CustomerID ORDER BY Quantity desc;\")\n",
        "df_sales.head()"
      ],
      "execution_count": 7,
      "outputs": [
        {
          "output_type": "execute_result",
          "data": {
            "text/html": [
              "<div>\n",
              "<style scoped>\n",
              "    .dataframe tbody tr th:only-of-type {\n",
              "        vertical-align: middle;\n",
              "    }\n",
              "\n",
              "    .dataframe tbody tr th {\n",
              "        vertical-align: top;\n",
              "    }\n",
              "\n",
              "    .dataframe thead th {\n",
              "        text-align: right;\n",
              "    }\n",
              "</style>\n",
              "<table border=\"1\" class=\"dataframe\">\n",
              "  <thead>\n",
              "    <tr style=\"text-align: right;\">\n",
              "      <th></th>\n",
              "      <th>CustomerID</th>\n",
              "      <th>Country</th>\n",
              "      <th>Total_purchases</th>\n",
              "      <th>Total_Revenue</th>\n",
              "      <th>Quantity</th>\n",
              "    </tr>\n",
              "  </thead>\n",
              "  <tbody>\n",
              "    <tr>\n",
              "      <th>0</th>\n",
              "      <td>NaN</td>\n",
              "      <td>United Kingdom</td>\n",
              "      <td>132566</td>\n",
              "      <td>1505647.11</td>\n",
              "      <td>282492</td>\n",
              "    </tr>\n",
              "    <tr>\n",
              "      <th>1</th>\n",
              "      <td>14646.0</td>\n",
              "      <td>Netherlands</td>\n",
              "      <td>2066</td>\n",
              "      <td>278778.02</td>\n",
              "      <td>197132</td>\n",
              "    </tr>\n",
              "    <tr>\n",
              "      <th>2</th>\n",
              "      <td>12415.0</td>\n",
              "      <td>Australia</td>\n",
              "      <td>776</td>\n",
              "      <td>123638.18</td>\n",
              "      <td>77242</td>\n",
              "    </tr>\n",
              "    <tr>\n",
              "      <th>3</th>\n",
              "      <td>14911.0</td>\n",
              "      <td>EIRE</td>\n",
              "      <td>5813</td>\n",
              "      <td>128882.13</td>\n",
              "      <td>77098</td>\n",
              "    </tr>\n",
              "    <tr>\n",
              "      <th>4</th>\n",
              "      <td>17450.0</td>\n",
              "      <td>United Kingdom</td>\n",
              "      <td>340</td>\n",
              "      <td>189735.53</td>\n",
              "      <td>69041</td>\n",
              "    </tr>\n",
              "  </tbody>\n",
              "</table>\n",
              "</div>"
            ],
            "text/plain": [
              "   CustomerID         Country  Total_purchases  Total_Revenue  Quantity\n",
              "0         NaN  United Kingdom           132566     1505647.11    282492\n",
              "1     14646.0     Netherlands             2066      278778.02    197132\n",
              "2     12415.0       Australia              776      123638.18     77242\n",
              "3     14911.0            EIRE             5813      128882.13     77098\n",
              "4     17450.0  United Kingdom              340      189735.53     69041"
            ]
          },
          "metadata": {},
          "execution_count": 7
        }
      ]
    },
    {
      "cell_type": "code",
      "metadata": {
        "id": "SbGcRoRelHo1"
      },
      "source": [
        "#For clustering, we need to drop all the missing values from the df, \n",
        "#We need to find the significant customers for the business, so purchases with no CustomerID are useless\n",
        "df_sales.dropna(inplace=True)"
      ],
      "execution_count": 9,
      "outputs": []
    },
    {
      "cell_type": "code",
      "metadata": {
        "colab": {
          "base_uri": "https://localhost:8080/",
          "height": 281
        },
        "id": "qVpIWieNlct1",
        "outputId": "d8954295-7356-4d02-c504-0bff0fc8a566"
      },
      "source": [
        "#now, let's see how the data is distributed\n",
        "plt.scatter(df_sales['Quantity'], df_sales['Total_Revenue'])"
      ],
      "execution_count": 10,
      "outputs": [
        {
          "output_type": "execute_result",
          "data": {
            "text/plain": [
              "<matplotlib.collections.PathCollection at 0x7fa07a441fd0>"
            ]
          },
          "metadata": {},
          "execution_count": 10
        },
        {
          "output_type": "display_data",
          "data": {
            "image/png": "[encoded data removed]",
            "text/plain": [
              "<Figure size 432x288 with 1 Axes>"
            ]
          },
          "metadata": {
            "needs_background": "light"
          }
        }
      ]
    },
    {
      "cell_type": "code",
      "metadata": {
        "colab": {
          "base_uri": "https://localhost:8080/",
          "height": 420
        },
        "id": "r7C3UuynmHIK",
        "outputId": "a617454b-ef8f-42f7-fbaa-9531c10e0c6e"
      },
      "source": [
        "#Here we can see outliers, to better indentify the cluster centers, we need to set limits to the top values of Total_revenue and Quantity\n",
        "df_clustering=sqldf(\"SELECT CustomerID,\tTotal_purchases,\tTotal_Revenue,\tQuantity FROM df_sales WHERE Total_Revenue <150000 and Quantity <70000\")\n",
        "fig, axes = plt.subplots(1, 1, figsize=(6, 6))\n",
        "plt.scatter(df_clustering['Quantity'], df_clustering['Total_Revenue'], color=('#63b3c0'))\n",
        "plt.xlabel('Total Items Sold')\n",
        "plt.ylabel('Total Revenue')\n",
        "plt.title('Quantity vs Revenue per client')"
      ],
      "execution_count": 11,
      "outputs": [
        {
          "output_type": "execute_result",
          "data": {
            "text/plain": [
              "Text(0.5, 1.0, 'Quantity vs Revenue per client')"
            ]
          },
          "metadata": {},
          "execution_count": 11
        },
        {
          "output_type": "display_data",
          "data": {
            "image/png": "[encoded data removed]",
            "text/plain": [
              "<Figure size 432x432 with 1 Axes>"
            ]
          },
          "metadata": {
            "needs_background": "light"
          }
        }
      ]
    },
    {
      "cell_type": "markdown",
      "metadata": {
        "id": "_hXprSkzWcgC"
      },
      "source": [
        "##Scaling using minmax scaler"
      ]
    },
    {
      "cell_type": "code",
      "metadata": {
        "colab": {
          "base_uri": "https://localhost:8080/",
          "height": 200
        },
        "id": "qdYyZrgfWjVk",
        "outputId": "560e9169-2cea-41ad-b79f-6d41fd21b737"
      },
      "source": [
        "scaler=MinMaxScaler()\n",
        "scaler.fit(df_clustering[['Quantity']])\n",
        "df_clustering['Quantity_scaled']=scaler.transform(df_clustering[['Quantity']])\n",
        "\n",
        "scaler.fit(df_clustering[['Total_Revenue']])\n",
        "df_clustering['Revenue_scaled']=scaler.transform(df_clustering[['Total_Revenue']])\n",
        "df_clustering.head()"
      ],
      "execution_count": 12,
      "outputs": [
        {
          "output_type": "execute_result",
          "data": {
            "text/html": [
              "<div>\n",
              "<style scoped>\n",
              "    .dataframe tbody tr th:only-of-type {\n",
              "        vertical-align: middle;\n",
              "    }\n",
              "\n",
              "    .dataframe tbody tr th {\n",
              "        vertical-align: top;\n",
              "    }\n",
              "\n",
              "    .dataframe thead th {\n",
              "        text-align: right;\n",
              "    }\n",
              "</style>\n",
              "<table border=\"1\" class=\"dataframe\">\n",
              "  <thead>\n",
              "    <tr style=\"text-align: right;\">\n",
              "      <th></th>\n",
              "      <th>CustomerID</th>\n",
              "      <th>Total_purchases</th>\n",
              "      <th>Total_Revenue</th>\n",
              "      <th>Quantity</th>\n",
              "      <th>Quantity_scaled</th>\n",
              "      <th>Revenue_scaled</th>\n",
              "    </tr>\n",
              "  </thead>\n",
              "  <tbody>\n",
              "    <tr>\n",
              "      <th>0</th>\n",
              "      <td>17511.0</td>\n",
              "      <td>1074</td>\n",
              "      <td>88138.20</td>\n",
              "      <td>63014</td>\n",
              "      <td>1.000000</td>\n",
              "      <td>0.776465</td>\n",
              "    </tr>\n",
              "    <tr>\n",
              "      <th>1</th>\n",
              "      <td>13694.0</td>\n",
              "      <td>582</td>\n",
              "      <td>62924.10</td>\n",
              "      <td>61808</td>\n",
              "      <td>0.980953</td>\n",
              "      <td>0.557303</td>\n",
              "    </tr>\n",
              "    <tr>\n",
              "      <th>2</th>\n",
              "      <td>14298.0</td>\n",
              "      <td>1640</td>\n",
              "      <td>50862.44</td>\n",
              "      <td>58021</td>\n",
              "      <td>0.921143</td>\n",
              "      <td>0.452462</td>\n",
              "    </tr>\n",
              "    <tr>\n",
              "      <th>3</th>\n",
              "      <td>14156.0</td>\n",
              "      <td>1406</td>\n",
              "      <td>113855.32</td>\n",
              "      <td>57013</td>\n",
              "      <td>0.905223</td>\n",
              "      <td>1.000000</td>\n",
              "    </tr>\n",
              "    <tr>\n",
              "      <th>4</th>\n",
              "      <td>16684.0</td>\n",
              "      <td>280</td>\n",
              "      <td>65920.12</td>\n",
              "      <td>49391</td>\n",
              "      <td>0.784845</td>\n",
              "      <td>0.583344</td>\n",
              "    </tr>\n",
              "  </tbody>\n",
              "</table>\n",
              "</div>"
            ],
            "text/plain": [
              "   CustomerID  Total_purchases  ...  Quantity_scaled  Revenue_scaled\n",
              "0     17511.0             1074  ...         1.000000        0.776465\n",
              "1     13694.0              582  ...         0.980953        0.557303\n",
              "2     14298.0             1640  ...         0.921143        0.452462\n",
              "3     14156.0             1406  ...         0.905223        1.000000\n",
              "4     16684.0              280  ...         0.784845        0.583344\n",
              "\n",
              "[5 rows x 6 columns]"
            ]
          },
          "metadata": {},
          "execution_count": 12
        }
      ]
    },
    {
      "cell_type": "code",
      "metadata": {
        "colab": {
          "base_uri": "https://localhost:8080/",
          "height": 403
        },
        "id": "j5BByEXqcfZR",
        "outputId": "954a9c79-7e68-4d15-b976-190366a33ec3"
      },
      "source": [
        "#Now we need to find the k-clusters. Let's use the Elbow method to find them\n",
        "sse = []\n",
        "k_rng = range(1,10)\n",
        "for k in k_rng:\n",
        "    km = KMeans(n_clusters=k)\n",
        "    km.fit(df_clustering[['Quantity_scaled','Revenue_scaled']])\n",
        "    sse.append(km.inertia_)\n",
        "\n",
        "fig, axes = plt.subplots(1,1,figsize=(6,6))\n",
        "plt.xlabel('K')\n",
        "plt.ylabel('Sum of squared error')\n",
        "plt.plot(k_rng,sse)"
      ],
      "execution_count": 13,
      "outputs": [
        {
          "output_type": "execute_result",
          "data": {
            "text/plain": [
              "[<matplotlib.lines.Line2D at 0x7fa05f1d8fd0>]"
            ]
          },
          "metadata": {},
          "execution_count": 13
        },
        {
          "output_type": "display_data",
          "data": {
            "image/png": "[encoded data removed]",
            "text/plain": [
              "<Figure size 432x432 with 1 Axes>"
            ]
          },
          "metadata": {
            "needs_background": "light"
          }
        }
      ]
    },
    {
      "cell_type": "code",
      "metadata": {
        "colab": {
          "base_uri": "https://localhost:8080/",
          "height": 473
        },
        "id": "gZf9RPzBhvNX",
        "outputId": "b783af64-13cd-495b-83f5-85d87b78a8c5"
      },
      "source": [
        "#Let's trye Kmean method with the scaled data\n",
        "km=KMeans(n_clusters=4)\n",
        "points=df_clustering[['Quantity_scaled','Revenue_scaled']].to_numpy()\n",
        "y_km=km.fit_predict(points)\n",
        "\n",
        "fig, axes = plt.subplots(1,1,figsize=(7,7))\n",
        "Cluster_0=plt.scatter(points[y_km ==0,0], points[y_km == 0,1], s=100, c='#63b3c0')\n",
        "Cluster_1=plt.scatter(points[y_km ==1,0], points[y_km == 1,1], s=100, c='#006494')\n",
        "Cluster_2=plt.scatter(points[y_km ==2,0], points[y_km == 2,1], s=100, c='#293f4e')\n",
        "Cluster_3=plt.scatter(points[y_km ==3,0], points[y_km == 3,1], s=100, c='#020300')\n",
        "\n",
        "\n",
        "plt.scatter(km.cluster_centers_[:,0],km.cluster_centers_[:,1],color='orange',marker='*',label='centroid',s=200)\n",
        "plt.xlabel('Total Items Sold')\n",
        "plt.ylabel('Total Revenue')\n",
        "plt.title('Clustering the Customers')\n",
        "plt.legend([Cluster_0,Cluster_1,Cluster_2,Cluster_3],['Cluster 0','Cluster 1','Cluster 2','Cluster 3'])"
      ],
      "execution_count": null,
      "outputs": [
        {
          "output_type": "execute_result",
          "data": {
            "text/plain": [
              "<matplotlib.legend.Legend at 0x7f48ed3e4a50>"
            ]
          },
          "metadata": {},
          "execution_count": 185
        },
        {
          "output_type": "display_data",
          "data": {
            "image/png": "[encoded data removed]",
            "text/plain": [
              "<Figure size 504x504 with 1 Axes>"
            ]
          },
          "metadata": {
            "needs_background": "light"
          }
        }
      ]
    },
    {
      "cell_type": "markdown",
      "metadata": {
        "id": "hjWNtk8uh7_m"
      },
      "source": [
        "##other methods"
      ]
    },
    {
      "cell_type": "code",
      "metadata": {
        "colab": {
          "base_uri": "https://localhost:8080/",
          "height": 473
        },
        "id": "ym0ipdmJjna2",
        "outputId": "c1553adc-ccd4-4527-cd7c-1a9e25820ff8"
      },
      "source": [
        "#Agglomerative Cluster\n",
        "agg = AgglomerativeClustering(n_clusters=4, affinity = 'euclidean', linkage = 'ward')\n",
        "y_agg = agg.fit_predict(points)\n",
        "\n",
        "fig, axes = plt.subplots(1,1,figsize=(7,7))\n",
        "plt.scatter(points[y_agg ==0,0], points[y_agg == 0,1], s=100, c='#264653')\n",
        "plt.scatter(points[y_agg ==1,0], points[y_agg == 1,1], s=100, c='#2a9d8f')\n",
        "plt.scatter(points[y_agg ==2,0], points[y_agg == 2,1], s=100, c='#e9c46a')\n",
        "plt.scatter(points[y_agg ==3,0], points[y_agg == 3,1], s=100, c='#f4a261')\n",
        "\n",
        "plt.xlabel('Total Items Sold')\n",
        "plt.ylabel('Total Revenue')\n",
        "plt.title('Clustering the Customers')\n",
        "\n"
      ],
      "execution_count": null,
      "outputs": [
        {
          "output_type": "execute_result",
          "data": {
            "text/plain": [
              "Text(0.5, 1.0, 'Clustering the Customers')"
            ]
          },
          "metadata": {},
          "execution_count": 186
        },
        {
          "output_type": "display_data",
          "data": {
            "image/png": "[encoded data removed]",
            "text/plain": [
              "<Figure size 504x504 with 1 Axes>"
            ]
          },
          "metadata": {
            "needs_background": "light"
          }
        }
      ]
    },
    {
      "cell_type": "code",
      "metadata": {
        "colab": {
          "base_uri": "https://localhost:8080/",
          "height": 351
        },
        "id": "JPBG8KwZAwj1",
        "outputId": "8cfa40bc-a991-4e25-8a13-ef448f3a0571"
      },
      "source": [
        "df_clustering[\"cluster_agg\"] = agg.labels_\n",
        "df_clustering[\"cluster_km\"] = km.labels_\n",
        "df_clustering.head(10)"
      ],
      "execution_count": null,
      "outputs": [
        {
          "output_type": "execute_result",
          "data": {
            "text/html": [
              "<div>\n",
              "<style scoped>\n",
              "    .dataframe tbody tr th:only-of-type {\n",
              "        vertical-align: middle;\n",
              "    }\n",
              "\n",
              "    .dataframe tbody tr th {\n",
              "        vertical-align: top;\n",
              "    }\n",
              "\n",
              "    .dataframe thead th {\n",
              "        text-align: right;\n",
              "    }\n",
              "</style>\n",
              "<table border=\"1\" class=\"dataframe\">\n",
              "  <thead>\n",
              "    <tr style=\"text-align: right;\">\n",
              "      <th></th>\n",
              "      <th>CustomerID</th>\n",
              "      <th>Total_purchases</th>\n",
              "      <th>Total_Revenue</th>\n",
              "      <th>Quantity</th>\n",
              "      <th>Quantity_scaled</th>\n",
              "      <th>Revenue_scaled</th>\n",
              "      <th>cluster_agg</th>\n",
              "      <th>cluster_km</th>\n",
              "    </tr>\n",
              "  </thead>\n",
              "  <tbody>\n",
              "    <tr>\n",
              "      <th>0</th>\n",
              "      <td>17511.0</td>\n",
              "      <td>1074</td>\n",
              "      <td>88138.20</td>\n",
              "      <td>63014</td>\n",
              "      <td>1.000000</td>\n",
              "      <td>0.776465</td>\n",
              "      <td>2</td>\n",
              "      <td>3</td>\n",
              "    </tr>\n",
              "    <tr>\n",
              "      <th>1</th>\n",
              "      <td>13694.0</td>\n",
              "      <td>582</td>\n",
              "      <td>62924.10</td>\n",
              "      <td>61808</td>\n",
              "      <td>0.980953</td>\n",
              "      <td>0.557303</td>\n",
              "      <td>2</td>\n",
              "      <td>3</td>\n",
              "    </tr>\n",
              "    <tr>\n",
              "      <th>2</th>\n",
              "      <td>14298.0</td>\n",
              "      <td>1640</td>\n",
              "      <td>50862.44</td>\n",
              "      <td>58021</td>\n",
              "      <td>0.921143</td>\n",
              "      <td>0.452462</td>\n",
              "      <td>2</td>\n",
              "      <td>3</td>\n",
              "    </tr>\n",
              "    <tr>\n",
              "      <th>3</th>\n",
              "      <td>14156.0</td>\n",
              "      <td>1406</td>\n",
              "      <td>113855.32</td>\n",
              "      <td>57013</td>\n",
              "      <td>0.905223</td>\n",
              "      <td>1.000000</td>\n",
              "      <td>2</td>\n",
              "      <td>3</td>\n",
              "    </tr>\n",
              "    <tr>\n",
              "      <th>4</th>\n",
              "      <td>16684.0</td>\n",
              "      <td>280</td>\n",
              "      <td>65920.12</td>\n",
              "      <td>49391</td>\n",
              "      <td>0.784845</td>\n",
              "      <td>0.583344</td>\n",
              "      <td>2</td>\n",
              "      <td>3</td>\n",
              "    </tr>\n",
              "    <tr>\n",
              "      <th>5</th>\n",
              "      <td>15311.0</td>\n",
              "      <td>2491</td>\n",
              "      <td>59419.34</td>\n",
              "      <td>37720</td>\n",
              "      <td>0.600518</td>\n",
              "      <td>0.526839</td>\n",
              "      <td>1</td>\n",
              "      <td>1</td>\n",
              "    </tr>\n",
              "    <tr>\n",
              "      <th>6</th>\n",
              "      <td>16422.0</td>\n",
              "      <td>378</td>\n",
              "      <td>34311.00</td>\n",
              "      <td>33584</td>\n",
              "      <td>0.535196</td>\n",
              "      <td>0.308596</td>\n",
              "      <td>1</td>\n",
              "      <td>1</td>\n",
              "    </tr>\n",
              "    <tr>\n",
              "      <th>7</th>\n",
              "      <td>17404.0</td>\n",
              "      <td>198</td>\n",
              "      <td>30175.82</td>\n",
              "      <td>32320</td>\n",
              "      <td>0.515233</td>\n",
              "      <td>0.272653</td>\n",
              "      <td>1</td>\n",
              "      <td>1</td>\n",
              "    </tr>\n",
              "    <tr>\n",
              "      <th>8</th>\n",
              "      <td>16029.0</td>\n",
              "      <td>264</td>\n",
              "      <td>58193.85</td>\n",
              "      <td>32203</td>\n",
              "      <td>0.513385</td>\n",
              "      <td>0.516187</td>\n",
              "      <td>1</td>\n",
              "      <td>1</td>\n",
              "    </tr>\n",
              "    <tr>\n",
              "      <th>9</th>\n",
              "      <td>16333.0</td>\n",
              "      <td>45</td>\n",
              "      <td>26626.80</td>\n",
              "      <td>32184</td>\n",
              "      <td>0.513085</td>\n",
              "      <td>0.241804</td>\n",
              "      <td>1</td>\n",
              "      <td>1</td>\n",
              "    </tr>\n",
              "  </tbody>\n",
              "</table>\n",
              "</div>"
            ],
            "text/plain": [
              "   CustomerID  Total_purchases  ...  cluster_agg  cluster_km\n",
              "0     17511.0             1074  ...            2           3\n",
              "1     13694.0              582  ...            2           3\n",
              "2     14298.0             1640  ...            2           3\n",
              "3     14156.0             1406  ...            2           3\n",
              "4     16684.0              280  ...            2           3\n",
              "5     15311.0             2491  ...            1           1\n",
              "6     16422.0              378  ...            1           1\n",
              "7     17404.0              198  ...            1           1\n",
              "8     16029.0              264  ...            1           1\n",
              "9     16333.0               45  ...            1           1\n",
              "\n",
              "[10 rows x 8 columns]"
            ]
          },
          "metadata": {},
          "execution_count": 187
        }
      ]
    },
    {
      "cell_type": "code",
      "metadata": {
        "id": "3vy6CJPkYaSO",
        "colab": {
          "base_uri": "https://localhost:8080/",
          "height": 460
        },
        "outputId": "fee7dcce-96b8-4067-e542-2123d902a193"
      },
      "source": [
        "#let's import a third method: DBSCAN\n",
        "from sklearn.cluster import DBSCAN\n",
        "\n",
        "db = DBSCAN(eps=0.08,min_samples=4)\n",
        "db.fit(points)\n",
        "f, axis=plt.subplots(1,1,figsize=(7,7))\n",
        "y_pred = db.fit_predict(points)\n",
        "plt.scatter(points[:,0], points[:,1],c=y_pred)\n",
        "plt.title(\"DBSCAN\")\n",
        "\n",
        "#DBSCAN algorithm did not work very well this time due to the diferent density of each cluster\n",
        "\n"
      ],
      "execution_count": null,
      "outputs": [
        {
          "output_type": "execute_result",
          "data": {
            "text/plain": [
              "Text(0.5, 1.0, 'DBSCAN')"
            ]
          },
          "metadata": {},
          "execution_count": 193
        },
        {
          "output_type": "display_data",
          "data": {
            "image/png": "[encoded data removed]",
            "text/plain": [
              "<Figure size 504x504 with 1 Axes>"
            ]
          },
          "metadata": {
            "needs_background": "light"
          }
        }
      ]
    },
    {
      "cell_type": "code",
      "metadata": {
        "id": "AzHgUoQXSs6g"
      },
      "source": [
        ""
      ],
      "execution_count": null,
      "outputs": []
    }
  ]
}