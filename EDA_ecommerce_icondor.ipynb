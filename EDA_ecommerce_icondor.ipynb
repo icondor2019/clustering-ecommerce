{
  "nbformat": 4,
  "nbformat_minor": 0,
  "metadata": {
    "colab": {
      "name": "uk_ecommerce.ipynb",
      "provenance": [],
      "collapsed_sections": []
    },
    "kernelspec": {
      "name": "python3",
      "display_name": "Python 3"
    },
    "language_info": {
      "name": "python"
    }
  },
  "cells": [
    {
      "cell_type": "markdown",
      "metadata": {
        "id": "UVYBEp7wX5tg"
      },
      "source": [
        "#EDA and Clustering project"
      ]
    },
    {
      "cell_type": "code",
      "metadata": {
        "colab": {
          "base_uri": "https://localhost:8080/"
        },
        "id": "BdDRG1pbTsZL",
        "outputId": "db876784-76e1-4702-f4fb-ac45986cc056"
      },
      "source": [
        "#import libraries\n",
        "import pandas as pd\n",
        "import matplotlib.pyplot as plt\n",
        "import seaborn as sns\n",
        "import missingno as msno \n",
        "import scipy.cluster.hierarchy as sch\n",
        "\n",
        "from sklearn.preprocessing import MinMaxScaler\n",
        "from sklearn.cluster import KMeans\n",
        "from sklearn.cluster import AgglomerativeClustering\n",
        "\n",
        "#let's try some SQL code to see how it works in python\n",
        "!pip install pandasql\n",
        "from pandasql import sqldf\n",
        "\n"
      ],
      "execution_count": 2,
      "outputs": [
        {
          "output_type": "stream",
          "name": "stdout",
          "text": [
            "Collecting pandasql\n",
            "  Downloading pandasql-0.7.3.tar.gz (26 kB)\n",
            "Requirement already satisfied: numpy in /usr/local/lib/python3.7/dist-packages (from pandasql) (1.19.5)\n",
            "Requirement already satisfied: pandas in /usr/local/lib/python3.7/dist-packages (from pandasql) (1.1.5)\n",
            "Requirement already satisfied: sqlalchemy in /usr/local/lib/python3.7/dist-packages (from pandasql) (1.4.25)\n",
            "Requirement already satisfied: python-dateutil>=2.7.3 in /usr/local/lib/python3.7/dist-packages (from pandas->pandasql) (2.8.2)\n",
            "Requirement already satisfied: pytz>=2017.2 in /usr/local/lib/python3.7/dist-packages (from pandas->pandasql) (2018.9)\n",
            "Requirement already satisfied: six>=1.5 in /usr/local/lib/python3.7/dist-packages (from python-dateutil>=2.7.3->pandas->pandasql) (1.15.0)\n",
            "Requirement already satisfied: greenlet!=0.4.17 in /usr/local/lib/python3.7/dist-packages (from sqlalchemy->pandasql) (1.1.2)\n",
            "Requirement already satisfied: importlib-metadata in /usr/local/lib/python3.7/dist-packages (from sqlalchemy->pandasql) (4.8.1)\n",
            "Requirement already satisfied: zipp>=0.5 in /usr/local/lib/python3.7/dist-packages (from importlib-metadata->sqlalchemy->pandasql) (3.6.0)\n",
            "Requirement already satisfied: typing-extensions>=3.6.4 in /usr/local/lib/python3.7/dist-packages (from importlib-metadata->sqlalchemy->pandasql) (3.7.4.3)\n",
            "Building wheels for collected packages: pandasql\n",
            "  Building wheel for pandasql (setup.py) ... \u001b[?25l\u001b[?25hdone\n",
            "  Created wheel for pandasql: filename=pandasql-0.7.3-py3-none-any.whl size=26781 sha256=e165fac3040853b51ddb7ef90af67541b1d205fa47940af986f519f6838c7457\n",
            "  Stored in directory: /root/.cache/pip/wheels/5c/4b/ec/41f4e116c8053c3654e2c2a47c62b4fca34cc67ef7b55deb7f\n",
            "Successfully built pandasql\n",
            "Installing collected packages: pandasql\n",
            "Successfully installed pandasql-0.7.3\n"
          ]
        }
      ]
    },
    {
      "cell_type": "code",
      "metadata": {
        "id": "poZx1GzQSKKz",
        "colab": {
          "base_uri": "https://localhost:8080/",
          "height": 200
        },
        "outputId": "45a391d1-cb47-4139-a8cd-604deee541e5"
      },
      "source": [
        "#import the dataset\n",
        "path='//content/drive/MyDrive/DataSets'\n",
        "df=pd.read_csv(path+'/uk_ecommerce.csv',sep=',',encoding='latin-1')\n",
        "df.tail()"
      ],
      "execution_count": 3,
      "outputs": [
        {
          "output_type": "execute_result",
          "data": {
            "text/html": [
              "<div>\n",
              "<style scoped>\n",
              "    .dataframe tbody tr th:only-of-type {\n",
              "        vertical-align: middle;\n",
              "    }\n",
              "\n",
              "    .dataframe tbody tr th {\n",
              "        vertical-align: top;\n",
              "    }\n",
              "\n",
              "    .dataframe thead th {\n",
              "        text-align: right;\n",
              "    }\n",
              "</style>\n",
              "<table border=\"1\" class=\"dataframe\">\n",
              "  <thead>\n",
              "    <tr style=\"text-align: right;\">\n",
              "      <th></th>\n",
              "      <th>InvoiceNo</th>\n",
              "      <th>StockCode</th>\n",
              "      <th>Description</th>\n",
              "      <th>Quantity</th>\n",
              "      <th>InvoiceDate</th>\n",
              "      <th>UnitPrice</th>\n",
              "      <th>CustomerID</th>\n",
              "      <th>Country</th>\n",
              "      <th>Unnamed: 8</th>\n",
              "    </tr>\n",
              "  </thead>\n",
              "  <tbody>\n",
              "    <tr>\n",
              "      <th>541904</th>\n",
              "      <td>581587</td>\n",
              "      <td>22613</td>\n",
              "      <td>PACK OF 20 SPACEBOY NAPKINS</td>\n",
              "      <td>12</td>\n",
              "      <td>7-Dec-17</td>\n",
              "      <td>0.85</td>\n",
              "      <td>12680.0</td>\n",
              "      <td>France</td>\n",
              "      <td>NaN</td>\n",
              "    </tr>\n",
              "    <tr>\n",
              "      <th>541905</th>\n",
              "      <td>581587</td>\n",
              "      <td>22899</td>\n",
              "      <td>CHILDREN'S APRON DOLLY GIRL</td>\n",
              "      <td>6</td>\n",
              "      <td>7-Dec-17</td>\n",
              "      <td>2.10</td>\n",
              "      <td>12680.0</td>\n",
              "      <td>France</td>\n",
              "      <td>NaN</td>\n",
              "    </tr>\n",
              "    <tr>\n",
              "      <th>541906</th>\n",
              "      <td>581587</td>\n",
              "      <td>23254</td>\n",
              "      <td>CHILDRENS CUTLERY DOLLY GIRL</td>\n",
              "      <td>4</td>\n",
              "      <td>7-Dec-17</td>\n",
              "      <td>4.15</td>\n",
              "      <td>12680.0</td>\n",
              "      <td>France</td>\n",
              "      <td>NaN</td>\n",
              "    </tr>\n",
              "    <tr>\n",
              "      <th>541907</th>\n",
              "      <td>581587</td>\n",
              "      <td>23255</td>\n",
              "      <td>CHILDRENS CUTLERY CIRCUS PARADE</td>\n",
              "      <td>4</td>\n",
              "      <td>7-Dec-17</td>\n",
              "      <td>4.15</td>\n",
              "      <td>12680.0</td>\n",
              "      <td>France</td>\n",
              "      <td>NaN</td>\n",
              "    </tr>\n",
              "    <tr>\n",
              "      <th>541908</th>\n",
              "      <td>581587</td>\n",
              "      <td>22138</td>\n",
              "      <td>BAKING SET 9 PIECE RETROSPOT</td>\n",
              "      <td>3</td>\n",
              "      <td>7-Dec-17</td>\n",
              "      <td>4.95</td>\n",
              "      <td>12680.0</td>\n",
              "      <td>France</td>\n",
              "      <td>NaN</td>\n",
              "    </tr>\n",
              "  </tbody>\n",
              "</table>\n",
              "</div>"
            ],
            "text/plain": [
              "       InvoiceNo StockCode  ... Country  Unnamed: 8\n",
              "541904    581587     22613  ...  France         NaN\n",
              "541905    581587     22899  ...  France         NaN\n",
              "541906    581587     23254  ...  France         NaN\n",
              "541907    581587     23255  ...  France         NaN\n",
              "541908    581587     22138  ...  France         NaN\n",
              "\n",
              "[5 rows x 9 columns]"
            ]
          },
          "metadata": {},
          "execution_count": 3
        }
      ]
    },
    {
      "cell_type": "code",
      "metadata": {
        "colab": {
          "base_uri": "https://localhost:8080/"
        },
        "id": "rG4SURQmWUBR",
        "outputId": "4d2331e9-b91f-4546-bf34-b391a6fdb531"
      },
      "source": [
        "#let's see what the data looks like\n",
        "df.info()"
      ],
      "execution_count": null,
      "outputs": [
        {
          "output_type": "stream",
          "name": "stdout",
          "text": [
            "<class 'pandas.core.frame.DataFrame'>\n",
            "RangeIndex: 541909 entries, 0 to 541908\n",
            "Data columns (total 9 columns):\n",
            " #   Column       Non-Null Count   Dtype  \n",
            "---  ------       --------------   -----  \n",
            " 0   InvoiceNo    541909 non-null  object \n",
            " 1   StockCode    541909 non-null  object \n",
            " 2   Description  540455 non-null  object \n",
            " 3   Quantity     541909 non-null  int64  \n",
            " 4   InvoiceDate  541909 non-null  object \n",
            " 5   UnitPrice    541909 non-null  float64\n",
            " 6   CustomerID   406829 non-null  float64\n",
            " 7   Country      541909 non-null  object \n",
            " 8   Unnamed: 8   0 non-null       float64\n",
            "dtypes: float64(3), int64(1), object(5)\n",
            "memory usage: 37.2+ MB\n"
          ]
        }
      ]
    },
    {
      "cell_type": "code",
      "metadata": {
        "id": "iGftC-lohkOv"
      },
      "source": [
        "#Let's add and additional column with the total revenue for purchase\n",
        "df['Total_Revenue']=df['Quantity']*df['UnitPrice']"
      ],
      "execution_count": 4,
      "outputs": []
    },
    {
      "cell_type": "code",
      "metadata": {
        "colab": {
          "base_uri": "https://localhost:8080/"
        },
        "id": "1nlnlHY6W8E4",
        "outputId": "85f7563d-3eb3-46f5-c084-28f146c6e051"
      },
      "source": [
        "#Let´s see the NaN or null values in the df and evaluate if they affect the EDA or the clustering\n",
        "df.isna().sum()"
      ],
      "execution_count": null,
      "outputs": [
        {
          "output_type": "execute_result",
          "data": {
            "text/plain": [
              "InvoiceNo             0\n",
              "StockCode             0\n",
              "Description        1454\n",
              "Quantity              0\n",
              "InvoiceDate           0\n",
              "UnitPrice             0\n",
              "CustomerID       135080\n",
              "Country               0\n",
              "Unnamed: 8       541909\n",
              "Total_Revenue         0\n",
              "dtype: int64"
            ]
          },
          "metadata": {},
          "execution_count": 5
        }
      ]
    },
    {
      "cell_type": "code",
      "metadata": {
        "colab": {
          "base_uri": "https://localhost:8080/",
          "height": 417
        },
        "id": "C2WfXuv-Yu6A",
        "outputId": "952ec599-716a-4cce-b968-7c32d103c45a"
      },
      "source": [
        "msno.matrix(df,figsize=(8,5))"
      ],
      "execution_count": null,
      "outputs": [
        {
          "output_type": "execute_result",
          "data": {
            "text/plain": [
              "<matplotlib.axes._subplots.AxesSubplot at 0x7f995cbc2110>"
            ]
          },
          "metadata": {},
          "execution_count": 39
        },
        {
          "output_type": "display_data",
          "data": {
            "image/png": "[encoded data removed]",
            "text/plain": [
              "<Figure size 576x360 with 2 Axes>"
            ]
          },
          "metadata": {
            "needs_background": "light"
          }
        }
      ]
    },
    {
      "cell_type": "code",
      "metadata": {
        "colab": {
          "base_uri": "https://localhost:8080/"
        },
        "id": "9kxrocFwY9jP",
        "outputId": "7c453825-7544-42c7-e4bc-64d707b5f926"
      },
      "source": [
        "#The column 'unnamed:8' is completely empty, and 135080 values in 'CustomeeID are missed.\n",
        "#For EDA analysis we will keep the rows with no CustomerId and replace the NaN with 0, and drop 'unnamed:8'empty column\n",
        "df_eda=df.drop(columns=['Unnamed: 8'])\n",
        "df_eda=df_eda.fillna(0)\n",
        "df_eda.info()"
      ],
      "execution_count": 5,
      "outputs": [
        {
          "output_type": "stream",
          "name": "stdout",
          "text": [
            "<class 'pandas.core.frame.DataFrame'>\n",
            "RangeIndex: 541909 entries, 0 to 541908\n",
            "Data columns (total 9 columns):\n",
            " #   Column         Non-Null Count   Dtype  \n",
            "---  ------         --------------   -----  \n",
            " 0   InvoiceNo      541909 non-null  object \n",
            " 1   StockCode      541909 non-null  object \n",
            " 2   Description    541909 non-null  object \n",
            " 3   Quantity       541909 non-null  int64  \n",
            " 4   InvoiceDate    541909 non-null  object \n",
            " 5   UnitPrice      541909 non-null  float64\n",
            " 6   CustomerID     541909 non-null  float64\n",
            " 7   Country        541909 non-null  object \n",
            " 8   Total_Revenue  541909 non-null  float64\n",
            "dtypes: float64(3), int64(1), object(5)\n",
            "memory usage: 37.2+ MB\n"
          ]
        }
      ]
    },
    {
      "cell_type": "markdown",
      "metadata": {
        "id": "7OQzVMbTa5oQ"
      },
      "source": [
        "#Clustering algorithm\n",
        "\n",
        "For clustering, we need to identify customers with similar purchases behavior and then group them into clusters. \n",
        "* identify the number of customer segments\n",
        "* Find the customers who are hightly valued"
      ]
    },
    {
      "cell_type": "code",
      "metadata": {
        "colab": {
          "base_uri": "https://localhost:8080/",
          "height": 200
        },
        "id": "cidtfGoPa5QP",
        "outputId": "5de7d530-9a9b-477b-dbb9-473dec00cc2d"
      },
      "source": [
        "#let's group the purchases by customer\n",
        "df_sales=sqldf(\"SELECT CustomerID, COUNTRY, COUNT(InvoiceNo) AS Total_purchases, SUM(Total_Revenue) as Total_Revenue, SUM(Quantity) as Quantity FROM df GROUP BY CustomerID ORDER BY Quantity desc;\")\n",
        "df_sales.head()"
      ],
      "execution_count": 28,
      "outputs": [
        {
          "output_type": "execute_result",
          "data": {
            "text/html": [
              "<div>\n",
              "<style scoped>\n",
              "    .dataframe tbody tr th:only-of-type {\n",
              "        vertical-align: middle;\n",
              "    }\n",
              "\n",
              "    .dataframe tbody tr th {\n",
              "        vertical-align: top;\n",
              "    }\n",
              "\n",
              "    .dataframe thead th {\n",
              "        text-align: right;\n",
              "    }\n",
              "</style>\n",
              "<table border=\"1\" class=\"dataframe\">\n",
              "  <thead>\n",
              "    <tr style=\"text-align: right;\">\n",
              "      <th></th>\n",
              "      <th>CustomerID</th>\n",
              "      <th>Country</th>\n",
              "      <th>Total_purchases</th>\n",
              "      <th>Total_Revenue</th>\n",
              "      <th>Quantity</th>\n",
              "    </tr>\n",
              "  </thead>\n",
              "  <tbody>\n",
              "    <tr>\n",
              "      <th>0</th>\n",
              "      <td>NaN</td>\n",
              "      <td>United Kingdom</td>\n",
              "      <td>135080</td>\n",
              "      <td>1447682.12</td>\n",
              "      <td>269562</td>\n",
              "    </tr>\n",
              "    <tr>\n",
              "      <th>1</th>\n",
              "      <td>14646.0</td>\n",
              "      <td>Netherlands</td>\n",
              "      <td>2085</td>\n",
              "      <td>279489.02</td>\n",
              "      <td>196719</td>\n",
              "    </tr>\n",
              "    <tr>\n",
              "      <th>2</th>\n",
              "      <td>12415.0</td>\n",
              "      <td>Australia</td>\n",
              "      <td>778</td>\n",
              "      <td>123725.45</td>\n",
              "      <td>77242</td>\n",
              "    </tr>\n",
              "    <tr>\n",
              "      <th>3</th>\n",
              "      <td>14911.0</td>\n",
              "      <td>EIRE</td>\n",
              "      <td>5903</td>\n",
              "      <td>132572.62</td>\n",
              "      <td>77180</td>\n",
              "    </tr>\n",
              "    <tr>\n",
              "      <th>4</th>\n",
              "      <td>17450.0</td>\n",
              "      <td>United Kingdom</td>\n",
              "      <td>351</td>\n",
              "      <td>187482.17</td>\n",
              "      <td>69029</td>\n",
              "    </tr>\n",
              "  </tbody>\n",
              "</table>\n",
              "</div>"
            ],
            "text/plain": [
              "   CustomerID         Country  Total_purchases  Total_Revenue  Quantity\n",
              "0         NaN  United Kingdom           135080     1447682.12    269562\n",
              "1     14646.0     Netherlands             2085      279489.02    196719\n",
              "2     12415.0       Australia              778      123725.45     77242\n",
              "3     14911.0            EIRE             5903      132572.62     77180\n",
              "4     17450.0  United Kingdom              351      187482.17     69029"
            ]
          },
          "metadata": {},
          "execution_count": 28
        }
      ]
    },
    {
      "cell_type": "code",
      "metadata": {
        "id": "SbGcRoRelHo1"
      },
      "source": [
        "#For clustering, we need to drop all the missing values from the df, \n",
        "#We need to find the significant customers for the business, so purchases with no CustomerID are useless\n",
        "df_sales.dropna(inplace=True)"
      ],
      "execution_count": 29,
      "outputs": []
    },
    {
      "cell_type": "code",
      "metadata": {
        "colab": {
          "base_uri": "https://localhost:8080/",
          "height": 281
        },
        "id": "qVpIWieNlct1",
        "outputId": "869c2b06-2218-43d5-d3a6-e1c039c71507"
      },
      "source": [
        "#now, let's see how the data is distributed\n",
        "plt.scatter(df_sales['Quantity'], df_sales['Total_Revenue'])"
      ],
      "execution_count": null,
      "outputs": [
        {
          "output_type": "execute_result",
          "data": {
            "text/plain": [
              "<matplotlib.collections.PathCollection at 0x7fd38516ebd0>"
            ]
          },
          "metadata": {},
          "execution_count": 47
        },
        {
          "output_type": "display_data",
          "data": {
            "image/png": "[encoded data removed]",
            "text/plain": [
              "<Figure size 432x288 with 1 Axes>"
            ]
          },
          "metadata": {
            "needs_background": "light"
          }
        }
      ]
    },
    {
      "cell_type": "code",
      "metadata": {
        "colab": {
          "base_uri": "https://localhost:8080/",
          "height": 390
        },
        "id": "r7C3UuynmHIK",
        "outputId": "4fd02d56-0002-4c45-8457-98a82e1ec1c9"
      },
      "source": [
        "#Here we can see outliers, to better intify the cluster centers, we need to set limits to the top values of Total_revenue and Quantity\n",
        "df_clustering=sqldf(\"SELECT CustomerID,\tTotal_purchases,\tTotal_Revenue,\tQuantity FROM df_sales WHERE Total_Revenue <150000 and Quantity <70000\")\n",
        "fig, axes = plt.subplots(1, 1, figsize=(6, 6))\n",
        "plt.scatter(df_clustering['Quantity'], df_clustering['Total_Revenue'])"
      ],
      "execution_count": 30,
      "outputs": [
        {
          "output_type": "execute_result",
          "data": {
            "text/plain": [
              "<matplotlib.collections.PathCollection at 0x7fcd3c3f19d0>"
            ]
          },
          "metadata": {},
          "execution_count": 30
        },
        {
          "output_type": "display_data",
          "data": {
            "image/png": "[encoded data removed]",
            "text/plain": [
              "<Figure size 432x432 with 1 Axes>"
            ]
          },
          "metadata": {
            "needs_background": "light"
          }
        }
      ]
    },
    {
      "cell_type": "markdown",
      "metadata": {
        "id": "_hXprSkzWcgC"
      },
      "source": [
        "##Scaling using minmax scaler"
      ]
    },
    {
      "cell_type": "code",
      "metadata": {
        "colab": {
          "base_uri": "https://localhost:8080/",
          "height": 200
        },
        "id": "qdYyZrgfWjVk",
        "outputId": "f113915b-eaa8-4b46-95ad-23f0d2a1a93b"
      },
      "source": [
        "scaler=MinMaxScaler()\n",
        "scaler.fit(df_clustering[['Quantity']])\n",
        "df_clustering['Quantity_scaled']=scaler.transform(df_clustering[['Quantity']])\n",
        "\n",
        "scaler.fit(df_clustering[['Total_Revenue']])\n",
        "df_clustering['Revenue_scaled']=scaler.transform(df_clustering[['Total_Revenue']])\n",
        "df_clustering.head()"
      ],
      "execution_count": 31,
      "outputs": [
        {
          "output_type": "execute_result",
          "data": {
            "text/html": [
              "<div>\n",
              "<style scoped>\n",
              "    .dataframe tbody tr th:only-of-type {\n",
              "        vertical-align: middle;\n",
              "    }\n",
              "\n",
              "    .dataframe tbody tr th {\n",
              "        vertical-align: top;\n",
              "    }\n",
              "\n",
              "    .dataframe thead th {\n",
              "        text-align: right;\n",
              "    }\n",
              "</style>\n",
              "<table border=\"1\" class=\"dataframe\">\n",
              "  <thead>\n",
              "    <tr style=\"text-align: right;\">\n",
              "      <th></th>\n",
              "      <th>CustomerID</th>\n",
              "      <th>Total_purchases</th>\n",
              "      <th>Total_Revenue</th>\n",
              "      <th>Quantity</th>\n",
              "      <th>Quantity_scaled</th>\n",
              "      <th>Revenue_scaled</th>\n",
              "    </tr>\n",
              "  </thead>\n",
              "  <tbody>\n",
              "    <tr>\n",
              "      <th>0</th>\n",
              "      <td>17511.0</td>\n",
              "      <td>1076</td>\n",
              "      <td>88125.38</td>\n",
              "      <td>63012</td>\n",
              "      <td>1.000000</td>\n",
              "      <td>0.785346</td>\n",
              "    </tr>\n",
              "    <tr>\n",
              "      <th>1</th>\n",
              "      <td>13694.0</td>\n",
              "      <td>585</td>\n",
              "      <td>62653.10</td>\n",
              "      <td>61803</td>\n",
              "      <td>0.980905</td>\n",
              "      <td>0.568877</td>\n",
              "    </tr>\n",
              "    <tr>\n",
              "      <th>2</th>\n",
              "      <td>14298.0</td>\n",
              "      <td>1640</td>\n",
              "      <td>50862.44</td>\n",
              "      <td>58021</td>\n",
              "      <td>0.921172</td>\n",
              "      <td>0.468677</td>\n",
              "    </tr>\n",
              "    <tr>\n",
              "      <th>3</th>\n",
              "      <td>14156.0</td>\n",
              "      <td>1420</td>\n",
              "      <td>113384.14</td>\n",
              "      <td>57025</td>\n",
              "      <td>0.905441</td>\n",
              "      <td>1.000000</td>\n",
              "    </tr>\n",
              "    <tr>\n",
              "      <th>4</th>\n",
              "      <td>16684.0</td>\n",
              "      <td>281</td>\n",
              "      <td>65892.08</td>\n",
              "      <td>49390</td>\n",
              "      <td>0.784854</td>\n",
              "      <td>0.596402</td>\n",
              "    </tr>\n",
              "  </tbody>\n",
              "</table>\n",
              "</div>"
            ],
            "text/plain": [
              "   CustomerID  Total_purchases  ...  Quantity_scaled  Revenue_scaled\n",
              "0     17511.0             1076  ...         1.000000        0.785346\n",
              "1     13694.0              585  ...         0.980905        0.568877\n",
              "2     14298.0             1640  ...         0.921172        0.468677\n",
              "3     14156.0             1420  ...         0.905441        1.000000\n",
              "4     16684.0              281  ...         0.784854        0.596402\n",
              "\n",
              "[5 rows x 6 columns]"
            ]
          },
          "metadata": {},
          "execution_count": 31
        }
      ]
    },
    {
      "cell_type": "code",
      "metadata": {
        "colab": {
          "base_uri": "https://localhost:8080/",
          "height": 513
        },
        "id": "j5BByEXqcfZR",
        "outputId": "cf8df4fd-7a97-44c3-b775-1ec27d20ede2"
      },
      "source": [
        "#Now we need to find the k-clusters. Let's use the Elbow method to find them\n",
        "sse = []\n",
        "k_rng = range(1,10)\n",
        "for k in k_rng:\n",
        "    km = KMeans(n_clusters=k)\n",
        "    km.fit(df_clustering[['Quantity_scaled','Revenue_scaled']])\n",
        "    sse.append(km.inertia_)\n",
        "\n",
        "fig, axes = plt.subplots(1,1,figsize=(8,8))\n",
        "plt.xlabel('K')\n",
        "plt.ylabel('Sum of squared error')\n",
        "plt.plot(k_rng,sse)"
      ],
      "execution_count": 33,
      "outputs": [
        {
          "output_type": "execute_result",
          "data": {
            "text/plain": [
              "[<matplotlib.lines.Line2D at 0x7fcd35847a50>]"
            ]
          },
          "metadata": {},
          "execution_count": 33
        },
        {
          "output_type": "display_data",
          "data": {
            "image/png": "[encoded data removed]",
            "text/plain": [
              "<Figure size 576x576 with 1 Axes>"
            ]
          },
          "metadata": {
            "needs_background": "light"
          }
        }
      ]
    },
    {
      "cell_type": "code",
      "metadata": {
        "colab": {
          "base_uri": "https://localhost:8080/",
          "height": 473
        },
        "id": "gZf9RPzBhvNX",
        "outputId": "de63f4a5-fe35-4fd5-bb08-e8b3365deaaa"
      },
      "source": [
        "#Let's trye Kmean method with the scaled data\n",
        "km=KMeans(n_clusters=4)\n",
        "points=df_clustering[['Quantity_scaled','Revenue_scaled']].to_numpy()\n",
        "y_km=km.fit_predict(points)\n",
        "\n",
        "fig, axes = plt.subplots(1,1,figsize=(7,7))\n",
        "Cluster_0=plt.scatter(points[y_km ==0,0], points[y_km == 0,1], s=100, c='red')\n",
        "Cluster_1=plt.scatter(points[y_km ==1,0], points[y_km == 1,1], s=100, c='black')\n",
        "Cluster_2=plt.scatter(points[y_km ==2,0], points[y_km == 2,1], s=100, c='blue')\n",
        "Cluster_3=plt.scatter(points[y_km ==3,0], points[y_km == 3,1], s=100, c='green')\n",
        "\n",
        "\n",
        "plt.scatter(km.cluster_centers_[:,0],km.cluster_centers_[:,1],color='orange',marker='*',label='centroid',s=200)\n",
        "plt.xlabel('Total Items Sold')\n",
        "plt.ylabel('Total Revenue')\n",
        "plt.title('Clustering the Customers')\n",
        "plt.legend([Cluster_0,Cluster_1,Cluster_2,Cluster_3],['Cluster 0','Cluster 1','Cluster 2','Cluster 3'])"
      ],
      "execution_count": 53,
      "outputs": [
        {
          "output_type": "execute_result",
          "data": {
            "text/plain": [
              "<matplotlib.legend.Legend at 0x7fcd3e7781d0>"
            ]
          },
          "metadata": {},
          "execution_count": 53
        },
        {
          "output_type": "display_data",
          "data": {
            "image/png": "[encoded data removed]",
            "text/plain": [
              "<Figure size 504x504 with 1 Axes>"
            ]
          },
          "metadata": {
            "needs_background": "light"
          }
        }
      ]
    },
    {
      "cell_type": "markdown",
      "metadata": {
        "id": "hjWNtk8uh7_m"
      },
      "source": [
        "##other methods"
      ]
    },
    {
      "cell_type": "code",
      "metadata": {
        "colab": {
          "base_uri": "https://localhost:8080/",
          "height": 490
        },
        "id": "ym0ipdmJjna2",
        "outputId": "182b237d-ae82-4e06-ec17-47a0abde7502"
      },
      "source": [
        "#Agglomerative Cluster\n",
        "agg = AgglomerativeClustering(n_clusters=4, affinity = 'euclidean', linkage = 'ward')\n",
        "# save clusters for chart\n",
        "y_agg = agg.fit_predict(points)\n",
        "\n",
        "fig, axes = plt.subplots(1,1,figsize=(7,7))\n",
        "plt.scatter(points[y_agg ==0,0], points[y_agg == 0,1], s=100, c='red')\n",
        "plt.scatter(points[y_agg ==1,0], points[y_agg == 1,1], s=100, c='black')\n",
        "plt.scatter(points[y_agg ==2,0], points[y_agg == 2,1], s=100, c='blue')\n",
        "plt.scatter(points[y_agg ==3,0], points[y_agg == 3,1], s=100, c='green')\n",
        "\n",
        "plt.xlabel('Total Items Sold')\n",
        "plt.ylabel('Total Revenue')\n",
        "plt.title('Clustering the Customers')\n",
        "ax.legend()\n"
      ],
      "execution_count": 34,
      "outputs": [
        {
          "output_type": "stream",
          "name": "stderr",
          "text": [
            "No handles with labels found to put in legend.\n"
          ]
        },
        {
          "output_type": "execute_result",
          "data": {
            "text/plain": [
              "<matplotlib.legend.Legend at 0x7fcd48737c90>"
            ]
          },
          "metadata": {},
          "execution_count": 34
        },
        {
          "output_type": "display_data",
          "data": {
            "image/png": "[encoded data removed]",
            "text/plain": [
              "<Figure size 504x504 with 1 Axes>"
            ]
          },
          "metadata": {
            "needs_background": "light"
          }
        }
      ]
    },
    {
      "cell_type": "code",
      "metadata": {
        "colab": {
          "base_uri": "https://localhost:8080/",
          "height": 351
        },
        "id": "JPBG8KwZAwj1",
        "outputId": "cb563b24-75e7-423c-97c2-3a15fc796d3e"
      },
      "source": [
        "df_clustering[\"cluster_agg\"] = agg.labels_\n",
        "df_clustering[\"cluster_km\"] = km.labels_\n",
        "df_clustering.head(10)"
      ],
      "execution_count": 54,
      "outputs": [
        {
          "output_type": "execute_result",
          "data": {
            "text/html": [
              "<div>\n",
              "<style scoped>\n",
              "    .dataframe tbody tr th:only-of-type {\n",
              "        vertical-align: middle;\n",
              "    }\n",
              "\n",
              "    .dataframe tbody tr th {\n",
              "        vertical-align: top;\n",
              "    }\n",
              "\n",
              "    .dataframe thead th {\n",
              "        text-align: right;\n",
              "    }\n",
              "</style>\n",
              "<table border=\"1\" class=\"dataframe\">\n",
              "  <thead>\n",
              "    <tr style=\"text-align: right;\">\n",
              "      <th></th>\n",
              "      <th>CustomerID</th>\n",
              "      <th>Total_purchases</th>\n",
              "      <th>Total_Revenue</th>\n",
              "      <th>Quantity</th>\n",
              "      <th>Quantity_scaled</th>\n",
              "      <th>Revenue_scaled</th>\n",
              "      <th>cluster_agg</th>\n",
              "      <th>cluster_km</th>\n",
              "    </tr>\n",
              "  </thead>\n",
              "  <tbody>\n",
              "    <tr>\n",
              "      <th>0</th>\n",
              "      <td>17511.0</td>\n",
              "      <td>1076</td>\n",
              "      <td>88125.38</td>\n",
              "      <td>63012</td>\n",
              "      <td>1.000000</td>\n",
              "      <td>0.785346</td>\n",
              "      <td>3</td>\n",
              "      <td>3</td>\n",
              "    </tr>\n",
              "    <tr>\n",
              "      <th>1</th>\n",
              "      <td>13694.0</td>\n",
              "      <td>585</td>\n",
              "      <td>62653.10</td>\n",
              "      <td>61803</td>\n",
              "      <td>0.980905</td>\n",
              "      <td>0.568877</td>\n",
              "      <td>3</td>\n",
              "      <td>3</td>\n",
              "    </tr>\n",
              "    <tr>\n",
              "      <th>2</th>\n",
              "      <td>14298.0</td>\n",
              "      <td>1640</td>\n",
              "      <td>50862.44</td>\n",
              "      <td>58021</td>\n",
              "      <td>0.921172</td>\n",
              "      <td>0.468677</td>\n",
              "      <td>3</td>\n",
              "      <td>3</td>\n",
              "    </tr>\n",
              "    <tr>\n",
              "      <th>3</th>\n",
              "      <td>14156.0</td>\n",
              "      <td>1420</td>\n",
              "      <td>113384.14</td>\n",
              "      <td>57025</td>\n",
              "      <td>0.905441</td>\n",
              "      <td>1.000000</td>\n",
              "      <td>3</td>\n",
              "      <td>3</td>\n",
              "    </tr>\n",
              "    <tr>\n",
              "      <th>4</th>\n",
              "      <td>16684.0</td>\n",
              "      <td>281</td>\n",
              "      <td>65892.08</td>\n",
              "      <td>49390</td>\n",
              "      <td>0.784854</td>\n",
              "      <td>0.596402</td>\n",
              "      <td>3</td>\n",
              "      <td>3</td>\n",
              "    </tr>\n",
              "    <tr>\n",
              "      <th>5</th>\n",
              "      <td>15311.0</td>\n",
              "      <td>2491</td>\n",
              "      <td>59419.34</td>\n",
              "      <td>37720</td>\n",
              "      <td>0.600537</td>\n",
              "      <td>0.541396</td>\n",
              "      <td>1</td>\n",
              "      <td>1</td>\n",
              "    </tr>\n",
              "    <tr>\n",
              "      <th>6</th>\n",
              "      <td>16422.0</td>\n",
              "      <td>399</td>\n",
              "      <td>33805.69</td>\n",
              "      <td>32592</td>\n",
              "      <td>0.519545</td>\n",
              "      <td>0.323725</td>\n",
              "      <td>1</td>\n",
              "      <td>1</td>\n",
              "    </tr>\n",
              "    <tr>\n",
              "      <th>7</th>\n",
              "      <td>17404.0</td>\n",
              "      <td>201</td>\n",
              "      <td>30300.82</td>\n",
              "      <td>32324</td>\n",
              "      <td>0.515312</td>\n",
              "      <td>0.293940</td>\n",
              "      <td>1</td>\n",
              "      <td>1</td>\n",
              "    </tr>\n",
              "    <tr>\n",
              "      <th>8</th>\n",
              "      <td>16333.0</td>\n",
              "      <td>45</td>\n",
              "      <td>26626.80</td>\n",
              "      <td>32184</td>\n",
              "      <td>0.513101</td>\n",
              "      <td>0.262717</td>\n",
              "      <td>1</td>\n",
              "      <td>1</td>\n",
              "    </tr>\n",
              "    <tr>\n",
              "      <th>9</th>\n",
              "      <td>16029.0</td>\n",
              "      <td>274</td>\n",
              "      <td>50992.61</td>\n",
              "      <td>32148</td>\n",
              "      <td>0.512533</td>\n",
              "      <td>0.469783</td>\n",
              "      <td>1</td>\n",
              "      <td>1</td>\n",
              "    </tr>\n",
              "  </tbody>\n",
              "</table>\n",
              "</div>"
            ],
            "text/plain": [
              "   CustomerID  Total_purchases  ...  cluster_agg  cluster_km\n",
              "0     17511.0             1076  ...            3           3\n",
              "1     13694.0              585  ...            3           3\n",
              "2     14298.0             1640  ...            3           3\n",
              "3     14156.0             1420  ...            3           3\n",
              "4     16684.0              281  ...            3           3\n",
              "5     15311.0             2491  ...            1           1\n",
              "6     16422.0              399  ...            1           1\n",
              "7     17404.0              201  ...            1           1\n",
              "8     16333.0               45  ...            1           1\n",
              "9     16029.0              274  ...            1           1\n",
              "\n",
              "[10 rows x 8 columns]"
            ]
          },
          "metadata": {},
          "execution_count": 54
        }
      ]
    },
    {
      "cell_type": "code",
      "metadata": {
        "id": "3vy6CJPkYaSO",
        "colab": {
          "base_uri": "https://localhost:8080/",
          "height": 297
        },
        "outputId": "4f0f4e00-1bb5-4039-ab22-e46b21b7e67c"
      },
      "source": [
        "#let's import a third method: DBSCAN\n",
        "from sklearn.cluster import DBSCAN\n",
        "\n",
        "db = DBSCAN(eps=0.06,min_samples=4)\n",
        "db.fit(points)\n",
        "y_pred = db.fit_predict(points)\n",
        "plt.scatter(points[:,0], points[:,1],c=y_pred)\n",
        "plt.title(\"DBSCAN\")\n",
        "\n",
        "#DBSCAN algorithm did not work very well this time due to the diferent density of each cluster\n",
        "\n"
      ],
      "execution_count": 40,
      "outputs": [
        {
          "output_type": "execute_result",
          "data": {
            "text/plain": [
              "Text(0.5, 1.0, 'DBSCAN')"
            ]
          },
          "metadata": {},
          "execution_count": 40
        },
        {
          "output_type": "display_data",
          "data": {
            "image/png": "[encoded data removed]",
            "text/plain": [
              "<Figure size 432x288 with 1 Axes>"
            ]
          },
          "metadata": {
            "needs_background": "light"
          }
        }
      ]
    },
    {
      "cell_type": "markdown",
      "metadata": {
        "id": "bbkbWz_la3kg"
      },
      "source": [
        "#EDA\n",
        "* What was the total revenue?\n",
        "* Which months had the higher sales?\n",
        "* What products are in the top 10 in sales and revenue?\n",
        "* Which products were returned more frequently?\n",
        "* What was the total loss?\n",
        "* What are the top 5 countries that purchesed the most?\n",
        "* What is the share of revenue for each cluster?"
      ]
    },
    {
      "cell_type": "code",
      "metadata": {
        "colab": {
          "base_uri": "https://localhost:8080/"
        },
        "id": "i-P2lLGvs-sG",
        "outputId": "35eed308-2ab1-4648-882d-4880c6272e53"
      },
      "source": [
        "#What was the total revenue?\n",
        "Sum_revenue=df_eda.Total_Revenue.sum()\n",
        "print ('Total Revenue:\\n','$ ', round(Sum_revenue,2))"
      ],
      "execution_count": 6,
      "outputs": [
        {
          "output_type": "stream",
          "name": "stdout",
          "text": [
            "Total Revenue:\n",
            " $  9747747.93\n"
          ]
        }
      ]
    },
    {
      "cell_type": "code",
      "metadata": {
        "id": "AxRmrcX-tXw3"
      },
      "source": [
        "#In which months the sales were higher?\n",
        "\n",
        "#let's separate the year and month\n",
        "import datetime as dt\n",
        "df_eda['InvoiceDate']=pd.to_datetime(df_eda['InvoiceDate'])\n",
        "\n",
        "df_eda['Month']=df_eda['InvoiceDate'].dt.month\n",
        "df_eda['Year']=df_eda['InvoiceDate'].dt.year"
      ],
      "execution_count": 7,
      "outputs": []
    },
    {
      "cell_type": "code",
      "metadata": {
        "colab": {
          "base_uri": "https://localhost:8080/"
        },
        "id": "gtYxOcTexIgC",
        "outputId": "c369877a-ce5a-42ec-df31-625a36ad1b4b"
      },
      "source": [
        "#total amount per year\n",
        "by_month=df_eda.groupby(df_eda['InvoiceDate'].dt.year).count().InvoiceDate\n",
        "by_month"
      ],
      "execution_count": 8,
      "outputs": [
        {
          "output_type": "execute_result",
          "data": {
            "text/plain": [
              "InvoiceDate\n",
              "2016     42481\n",
              "2017    499428\n",
              "Name: InvoiceDate, dtype: int64"
            ]
          },
          "metadata": {},
          "execution_count": 8
        }
      ]
    },
    {
      "cell_type": "code",
      "metadata": {
        "colab": {
          "base_uri": "https://localhost:8080/"
        },
        "id": "MCsDpOMWCykf",
        "outputId": "d10e3516-5aa6-4c8a-c806-1e2d3cff1d13"
      },
      "source": [
        "Total_per_month=df_eda.groupby(['Year','Month'])['Total_Revenue'].sum()\n",
        "Total_per_month"
      ],
      "execution_count": 9,
      "outputs": [
        {
          "output_type": "execute_result",
          "data": {
            "text/plain": [
              "Year  Month\n",
              "2016  11        104842.840\n",
              "      12        644114.180\n",
              "2017  1         609481.930\n",
              "      2         492349.140\n",
              "      3         663890.700\n",
              "      4         475780.001\n",
              "      5         769062.060\n",
              "      6         651601.730\n",
              "      7         704438.401\n",
              "      8         725412.070\n",
              "      9         952269.532\n",
              "      10       1133061.700\n",
              "      11       1496272.650\n",
              "      12        325171.000\n",
              "Name: Total_Revenue, dtype: float64"
            ]
          },
          "metadata": {},
          "execution_count": 9
        }
      ]
    },
    {
      "cell_type": "code",
      "metadata": {
        "colab": {
          "base_uri": "https://localhost:8080/",
          "height": 403
        },
        "id": "yu5h2w47FxJ6",
        "outputId": "35b69382-ba6d-4dc3-b043-ad30d0021c33"
      },
      "source": [
        "Total_per_month.plot(kind='bar', color='blue',figsize=(8,5))"
      ],
      "execution_count": null,
      "outputs": [
        {
          "output_type": "execute_result",
          "data": {
            "text/plain": [
              "<matplotlib.axes._subplots.AxesSubplot at 0x7f995cee5550>"
            ]
          },
          "metadata": {},
          "execution_count": 37
        },
        {
          "output_type": "display_data",
          "data": {
            "image/png": "[encoded data removed]",
            "text/plain": [
              "<Figure size 576x360 with 1 Axes>"
            ]
          },
          "metadata": {
            "needs_background": "light"
          }
        }
      ]
    },
    {
      "cell_type": "code",
      "metadata": {
        "colab": {
          "base_uri": "https://localhost:8080/",
          "height": 351
        },
        "id": "WcHbskpstZDA",
        "outputId": "28a05574-4aab-4064-f508-425b10d37c79"
      },
      "source": [
        "#What products are the top 10 in sales and Revenue?\n",
        "Top_products=df_eda[['StockCode','Description','Quantity','Total_Revenue']].groupby(['StockCode','Description'],as_index=False).sum(['Quantity','Total_Revenue']).sort_values(by='Quantity',ascending=False)\n",
        "Top_products.head(10)"
      ],
      "execution_count": 10,
      "outputs": [
        {
          "output_type": "execute_result",
          "data": {
            "text/html": [
              "<div>\n",
              "<style scoped>\n",
              "    .dataframe tbody tr th:only-of-type {\n",
              "        vertical-align: middle;\n",
              "    }\n",
              "\n",
              "    .dataframe tbody tr th {\n",
              "        vertical-align: top;\n",
              "    }\n",
              "\n",
              "    .dataframe thead th {\n",
              "        text-align: right;\n",
              "    }\n",
              "</style>\n",
              "<table border=\"1\" class=\"dataframe\">\n",
              "  <thead>\n",
              "    <tr style=\"text-align: right;\">\n",
              "      <th></th>\n",
              "      <th>StockCode</th>\n",
              "      <th>Description</th>\n",
              "      <th>Quantity</th>\n",
              "      <th>Total_Revenue</th>\n",
              "    </tr>\n",
              "  </thead>\n",
              "  <tbody>\n",
              "    <tr>\n",
              "      <th>4283</th>\n",
              "      <td>84077</td>\n",
              "      <td>WORLD WAR 2 GLIDERS ASSTD DESIGNS</td>\n",
              "      <td>53847</td>\n",
              "      <td>13587.93</td>\n",
              "    </tr>\n",
              "    <tr>\n",
              "      <th>5068</th>\n",
              "      <td>85099B</td>\n",
              "      <td>JUMBO BAG RED RETROSPOT</td>\n",
              "      <td>47363</td>\n",
              "      <td>92356.03</td>\n",
              "    </tr>\n",
              "    <tr>\n",
              "      <th>4759</th>\n",
              "      <td>84879</td>\n",
              "      <td>ASSORTED COLOUR BIRD ORNAMENT</td>\n",
              "      <td>36381</td>\n",
              "      <td>58959.73</td>\n",
              "    </tr>\n",
              "    <tr>\n",
              "      <th>1695</th>\n",
              "      <td>22197</td>\n",
              "      <td>POPCORN HOLDER</td>\n",
              "      <td>36334</td>\n",
              "      <td>33969.46</td>\n",
              "    </tr>\n",
              "    <tr>\n",
              "      <th>691</th>\n",
              "      <td>21212</td>\n",
              "      <td>PACK OF 72 RETROSPOT CAKE CASES</td>\n",
              "      <td>36039</td>\n",
              "      <td>21059.72</td>\n",
              "    </tr>\n",
              "    <tr>\n",
              "      <th>5100</th>\n",
              "      <td>85123A</td>\n",
              "      <td>WHITE HANGING HEART T-LIGHT HOLDER</td>\n",
              "      <td>35025</td>\n",
              "      <td>97715.99</td>\n",
              "    </tr>\n",
              "    <tr>\n",
              "      <th>2812</th>\n",
              "      <td>23084</td>\n",
              "      <td>RABBIT NIGHT LIGHT</td>\n",
              "      <td>30680</td>\n",
              "      <td>66756.59</td>\n",
              "    </tr>\n",
              "    <tr>\n",
              "      <th>2021</th>\n",
              "      <td>22492</td>\n",
              "      <td>MINI PAINT SET VINTAGE</td>\n",
              "      <td>26437</td>\n",
              "      <td>16810.42</td>\n",
              "    </tr>\n",
              "    <tr>\n",
              "      <th>2185</th>\n",
              "      <td>22616</td>\n",
              "      <td>PACK OF 12 LONDON TISSUES</td>\n",
              "      <td>26315</td>\n",
              "      <td>7972.76</td>\n",
              "    </tr>\n",
              "    <tr>\n",
              "      <th>1443</th>\n",
              "      <td>21977</td>\n",
              "      <td>PACK OF 60 PINK PAISLEY CAKE CASES</td>\n",
              "      <td>24753</td>\n",
              "      <td>12189.47</td>\n",
              "    </tr>\n",
              "  </tbody>\n",
              "</table>\n",
              "</div>"
            ],
            "text/plain": [
              "     StockCode                         Description  Quantity  Total_Revenue\n",
              "4283     84077   WORLD WAR 2 GLIDERS ASSTD DESIGNS     53847       13587.93\n",
              "5068    85099B             JUMBO BAG RED RETROSPOT     47363       92356.03\n",
              "4759     84879       ASSORTED COLOUR BIRD ORNAMENT     36381       58959.73\n",
              "1695     22197                      POPCORN HOLDER     36334       33969.46\n",
              "691      21212     PACK OF 72 RETROSPOT CAKE CASES     36039       21059.72\n",
              "5100    85123A  WHITE HANGING HEART T-LIGHT HOLDER     35025       97715.99\n",
              "2812     23084                  RABBIT NIGHT LIGHT     30680       66756.59\n",
              "2021     22492             MINI PAINT SET VINTAGE      26437       16810.42\n",
              "2185     22616          PACK OF 12 LONDON TISSUES      26315        7972.76\n",
              "1443     21977  PACK OF 60 PINK PAISLEY CAKE CASES     24753       12189.47"
            ]
          },
          "metadata": {},
          "execution_count": 10
        }
      ]
    },
    {
      "cell_type": "code",
      "metadata": {
        "colab": {
          "base_uri": "https://localhost:8080/",
          "height": 408
        },
        "id": "hEXrwMEM62jG",
        "outputId": "a509fe8e-94a8-4d18-e225-d763b93ad224"
      },
      "source": [
        "Top_products.sort_values(by='Total_Revenue', ascending=False)"
      ],
      "execution_count": 11,
      "outputs": [
        {
          "output_type": "execute_result",
          "data": {
            "text/html": [
              "<div>\n",
              "<style scoped>\n",
              "    .dataframe tbody tr th:only-of-type {\n",
              "        vertical-align: middle;\n",
              "    }\n",
              "\n",
              "    .dataframe tbody tr th {\n",
              "        vertical-align: top;\n",
              "    }\n",
              "\n",
              "    .dataframe thead th {\n",
              "        text-align: right;\n",
              "    }\n",
              "</style>\n",
              "<table border=\"1\" class=\"dataframe\">\n",
              "  <thead>\n",
              "    <tr style=\"text-align: right;\">\n",
              "      <th></th>\n",
              "      <th>StockCode</th>\n",
              "      <th>Description</th>\n",
              "      <th>Quantity</th>\n",
              "      <th>Total_Revenue</th>\n",
              "    </tr>\n",
              "  </thead>\n",
              "  <tbody>\n",
              "    <tr>\n",
              "      <th>5737</th>\n",
              "      <td>DOT</td>\n",
              "      <td>DOTCOM POSTAGE</td>\n",
              "      <td>707</td>\n",
              "      <td>206245.480</td>\n",
              "    </tr>\n",
              "    <tr>\n",
              "      <th>1931</th>\n",
              "      <td>22423</td>\n",
              "      <td>REGENCY CAKESTAND 3 TIER</td>\n",
              "      <td>13033</td>\n",
              "      <td>164762.190</td>\n",
              "    </tr>\n",
              "    <tr>\n",
              "      <th>3877</th>\n",
              "      <td>47566</td>\n",
              "      <td>PARTY BUNTING</td>\n",
              "      <td>18022</td>\n",
              "      <td>98302.980</td>\n",
              "    </tr>\n",
              "    <tr>\n",
              "      <th>5100</th>\n",
              "      <td>85123A</td>\n",
              "      <td>WHITE HANGING HEART T-LIGHT HOLDER</td>\n",
              "      <td>35025</td>\n",
              "      <td>97715.990</td>\n",
              "    </tr>\n",
              "    <tr>\n",
              "      <th>5068</th>\n",
              "      <td>85099B</td>\n",
              "      <td>JUMBO BAG RED RETROSPOT</td>\n",
              "      <td>47363</td>\n",
              "      <td>92356.030</td>\n",
              "    </tr>\n",
              "    <tr>\n",
              "      <th>...</th>\n",
              "      <td>...</td>\n",
              "      <td>...</td>\n",
              "      <td>...</td>\n",
              "      <td>...</td>\n",
              "    </tr>\n",
              "    <tr>\n",
              "      <th>5712</th>\n",
              "      <td>BANK CHARGES</td>\n",
              "      <td>Bank Charges</td>\n",
              "      <td>-13</td>\n",
              "      <td>-7175.639</td>\n",
              "    </tr>\n",
              "    <tr>\n",
              "      <th>5715</th>\n",
              "      <td>CRUK</td>\n",
              "      <td>CRUK Commission</td>\n",
              "      <td>-16</td>\n",
              "      <td>-7933.430</td>\n",
              "    </tr>\n",
              "    <tr>\n",
              "      <th>5711</th>\n",
              "      <td>B</td>\n",
              "      <td>Adjust bad debt</td>\n",
              "      <td>3</td>\n",
              "      <td>-11062.060</td>\n",
              "    </tr>\n",
              "    <tr>\n",
              "      <th>5738</th>\n",
              "      <td>M</td>\n",
              "      <td>Manual</td>\n",
              "      <td>3164</td>\n",
              "      <td>-68674.190</td>\n",
              "    </tr>\n",
              "    <tr>\n",
              "      <th>5710</th>\n",
              "      <td>AMAZONFEE</td>\n",
              "      <td>AMAZON FEE</td>\n",
              "      <td>-30</td>\n",
              "      <td>-221520.500</td>\n",
              "    </tr>\n",
              "  </tbody>\n",
              "</table>\n",
              "<p>5752 rows × 4 columns</p>\n",
              "</div>"
            ],
            "text/plain": [
              "         StockCode                         Description  Quantity  Total_Revenue\n",
              "5737           DOT                      DOTCOM POSTAGE       707     206245.480\n",
              "1931         22423            REGENCY CAKESTAND 3 TIER     13033     164762.190\n",
              "3877         47566                       PARTY BUNTING     18022      98302.980\n",
              "5100        85123A  WHITE HANGING HEART T-LIGHT HOLDER     35025      97715.990\n",
              "5068        85099B             JUMBO BAG RED RETROSPOT     47363      92356.030\n",
              "...            ...                                 ...       ...            ...\n",
              "5712  BANK CHARGES                        Bank Charges       -13      -7175.639\n",
              "5715          CRUK                     CRUK Commission       -16      -7933.430\n",
              "5711             B                     Adjust bad debt         3     -11062.060\n",
              "5738             M                              Manual      3164     -68674.190\n",
              "5710     AMAZONFEE                          AMAZON FEE       -30    -221520.500\n",
              "\n",
              "[5752 rows x 4 columns]"
            ]
          },
          "metadata": {},
          "execution_count": 11
        }
      ]
    },
    {
      "cell_type": "code",
      "metadata": {
        "colab": {
          "base_uri": "https://localhost:8080/",
          "height": 440
        },
        "id": "gkxMvtTk7xVm",
        "outputId": "f3e225f1-7d59-43da-be2b-0cd21708549a"
      },
      "source": [
        "#Let's create a df with the products with negative revenue\n",
        "df_loss=df_eda[['Description','Quantity','Total_Revenue']].loc[df_eda['Total_Revenue']<0].sort_values(by='Total_Revenue')\n",
        "df_loss.groupby('Description').sum().sort_values(by='Total_Revenue')"
      ],
      "execution_count": 28,
      "outputs": [
        {
          "output_type": "execute_result",
          "data": {
            "text/html": [
              "<div>\n",
              "<style scoped>\n",
              "    .dataframe tbody tr th:only-of-type {\n",
              "        vertical-align: middle;\n",
              "    }\n",
              "\n",
              "    .dataframe tbody tr th {\n",
              "        vertical-align: top;\n",
              "    }\n",
              "\n",
              "    .dataframe thead th {\n",
              "        text-align: right;\n",
              "    }\n",
              "</style>\n",
              "<table border=\"1\" class=\"dataframe\">\n",
              "  <thead>\n",
              "    <tr style=\"text-align: right;\">\n",
              "      <th></th>\n",
              "      <th>Quantity</th>\n",
              "      <th>Total_Revenue</th>\n",
              "    </tr>\n",
              "    <tr>\n",
              "      <th>Description</th>\n",
              "      <th></th>\n",
              "      <th></th>\n",
              "    </tr>\n",
              "  </thead>\n",
              "  <tbody>\n",
              "    <tr>\n",
              "      <th>AMAZON FEE</th>\n",
              "      <td>-32</td>\n",
              "      <td>-235281.59</td>\n",
              "    </tr>\n",
              "    <tr>\n",
              "      <th>PAPER CRAFT , LITTLE BIRDIE</th>\n",
              "      <td>-80995</td>\n",
              "      <td>-168469.60</td>\n",
              "    </tr>\n",
              "    <tr>\n",
              "      <th>Manual</th>\n",
              "      <td>-4066</td>\n",
              "      <td>-146784.46</td>\n",
              "    </tr>\n",
              "    <tr>\n",
              "      <th>MEDIUM CERAMIC TOP STORAGE JAR</th>\n",
              "      <td>-74494</td>\n",
              "      <td>-77479.64</td>\n",
              "    </tr>\n",
              "    <tr>\n",
              "      <th>Adjust bad debt</th>\n",
              "      <td>2</td>\n",
              "      <td>-22124.12</td>\n",
              "    </tr>\n",
              "    <tr>\n",
              "      <th>...</th>\n",
              "      <td>...</td>\n",
              "      <td>...</td>\n",
              "    </tr>\n",
              "    <tr>\n",
              "      <th>STRIPY DESIGN SHOWER CAP</th>\n",
              "      <td>-1</td>\n",
              "      <td>-0.29</td>\n",
              "    </tr>\n",
              "    <tr>\n",
              "      <th>FRENCH STYLE STORAGE JAR JAM</th>\n",
              "      <td>-1</td>\n",
              "      <td>-0.29</td>\n",
              "    </tr>\n",
              "    <tr>\n",
              "      <th>RECYCLED PENCIL WITH RABBIT ERASER</th>\n",
              "      <td>-1</td>\n",
              "      <td>-0.21</td>\n",
              "    </tr>\n",
              "    <tr>\n",
              "      <th>STARS GIFT TAPE</th>\n",
              "      <td>-1</td>\n",
              "      <td>-0.19</td>\n",
              "    </tr>\n",
              "    <tr>\n",
              "      <th>HANGING WOOD AND FELT FLOWER</th>\n",
              "      <td>-1</td>\n",
              "      <td>-0.12</td>\n",
              "    </tr>\n",
              "  </tbody>\n",
              "</table>\n",
              "<p>1973 rows × 2 columns</p>\n",
              "</div>"
            ],
            "text/plain": [
              "                                    Quantity  Total_Revenue\n",
              "Description                                                \n",
              "AMAZON FEE                               -32     -235281.59\n",
              "PAPER CRAFT , LITTLE BIRDIE           -80995     -168469.60\n",
              "Manual                                 -4066     -146784.46\n",
              "MEDIUM CERAMIC TOP STORAGE JAR        -74494      -77479.64\n",
              "Adjust bad debt                            2      -22124.12\n",
              "...                                      ...            ...\n",
              "STRIPY DESIGN SHOWER CAP                  -1          -0.29\n",
              "FRENCH STYLE STORAGE JAR JAM              -1          -0.29\n",
              "RECYCLED PENCIL WITH RABBIT ERASER        -1          -0.21\n",
              "STARS GIFT TAPE                           -1          -0.19\n",
              "HANGING WOOD AND FELT FLOWER              -1          -0.12\n",
              "\n",
              "[1973 rows x 2 columns]"
            ]
          },
          "metadata": {},
          "execution_count": 28
        }
      ]
    },
    {
      "cell_type": "code",
      "metadata": {
        "id": "R-qXSAMHtbhX",
        "colab": {
          "base_uri": "https://localhost:8080/",
          "height": 408
        },
        "outputId": "b6afaef4-8ef2-4529-c739-9acbe7e70dcb"
      },
      "source": [
        "#Which products were returne or discarte more frequently?\n",
        "df_loss.sort_values(by='Quantity')"
      ],
      "execution_count": 32,
      "outputs": [
        {
          "output_type": "execute_result",
          "data": {
            "text/html": [
              "<div>\n",
              "<style scoped>\n",
              "    .dataframe tbody tr th:only-of-type {\n",
              "        vertical-align: middle;\n",
              "    }\n",
              "\n",
              "    .dataframe tbody tr th {\n",
              "        vertical-align: top;\n",
              "    }\n",
              "\n",
              "    .dataframe thead th {\n",
              "        text-align: right;\n",
              "    }\n",
              "</style>\n",
              "<table border=\"1\" class=\"dataframe\">\n",
              "  <thead>\n",
              "    <tr style=\"text-align: right;\">\n",
              "      <th></th>\n",
              "      <th>Description</th>\n",
              "      <th>Quantity</th>\n",
              "      <th>Total_Revenue</th>\n",
              "    </tr>\n",
              "  </thead>\n",
              "  <tbody>\n",
              "    <tr>\n",
              "      <th>540422</th>\n",
              "      <td>PAPER CRAFT , LITTLE BIRDIE</td>\n",
              "      <td>-80995</td>\n",
              "      <td>-168469.60</td>\n",
              "    </tr>\n",
              "    <tr>\n",
              "      <th>61624</th>\n",
              "      <td>MEDIUM CERAMIC TOP STORAGE JAR</td>\n",
              "      <td>-74215</td>\n",
              "      <td>-77183.60</td>\n",
              "    </tr>\n",
              "    <tr>\n",
              "      <th>4287</th>\n",
              "      <td>ROTATING SILVER ANGELS T-LIGHT HLDR</td>\n",
              "      <td>-9360</td>\n",
              "      <td>-280.80</td>\n",
              "    </tr>\n",
              "    <tr>\n",
              "      <th>160145</th>\n",
              "      <td>FAIRY CAKE FLANNEL ASSORTED COLOUR</td>\n",
              "      <td>-3114</td>\n",
              "      <td>-6539.40</td>\n",
              "    </tr>\n",
              "    <tr>\n",
              "      <th>160144</th>\n",
              "      <td>GIN + TONIC DIET METAL SIGN</td>\n",
              "      <td>-2000</td>\n",
              "      <td>-3700.00</td>\n",
              "    </tr>\n",
              "    <tr>\n",
              "      <th>...</th>\n",
              "      <td>...</td>\n",
              "      <td>...</td>\n",
              "      <td>...</td>\n",
              "    </tr>\n",
              "    <tr>\n",
              "      <th>210958</th>\n",
              "      <td>PARISIENNE KEY CABINET</td>\n",
              "      <td>-1</td>\n",
              "      <td>-5.75</td>\n",
              "    </tr>\n",
              "    <tr>\n",
              "      <th>437122</th>\n",
              "      <td>PARISIENNE KEY CABINET</td>\n",
              "      <td>-1</td>\n",
              "      <td>-5.75</td>\n",
              "    </tr>\n",
              "    <tr>\n",
              "      <th>529694</th>\n",
              "      <td>CHILLI LIGHTS</td>\n",
              "      <td>-1</td>\n",
              "      <td>-5.75</td>\n",
              "    </tr>\n",
              "    <tr>\n",
              "      <th>299983</th>\n",
              "      <td>Adjust bad debt</td>\n",
              "      <td>1</td>\n",
              "      <td>-11062.06</td>\n",
              "    </tr>\n",
              "    <tr>\n",
              "      <th>299984</th>\n",
              "      <td>Adjust bad debt</td>\n",
              "      <td>1</td>\n",
              "      <td>-11062.06</td>\n",
              "    </tr>\n",
              "  </tbody>\n",
              "</table>\n",
              "<p>9290 rows × 3 columns</p>\n",
              "</div>"
            ],
            "text/plain": [
              "                                Description  Quantity  Total_Revenue\n",
              "540422          PAPER CRAFT , LITTLE BIRDIE    -80995     -168469.60\n",
              "61624        MEDIUM CERAMIC TOP STORAGE JAR    -74215      -77183.60\n",
              "4287    ROTATING SILVER ANGELS T-LIGHT HLDR     -9360        -280.80\n",
              "160145   FAIRY CAKE FLANNEL ASSORTED COLOUR     -3114       -6539.40\n",
              "160144          GIN + TONIC DIET METAL SIGN     -2000       -3700.00\n",
              "...                                     ...       ...            ...\n",
              "210958              PARISIENNE KEY CABINET         -1          -5.75\n",
              "437122              PARISIENNE KEY CABINET         -1          -5.75\n",
              "529694                        CHILLI LIGHTS        -1          -5.75\n",
              "299983                      Adjust bad debt         1      -11062.06\n",
              "299984                      Adjust bad debt         1      -11062.06\n",
              "\n",
              "[9290 rows x 3 columns]"
            ]
          },
          "metadata": {},
          "execution_count": 32
        }
      ]
    },
    {
      "cell_type": "code",
      "metadata": {
        "colab": {
          "base_uri": "https://localhost:8080/"
        },
        "id": "-nr0BGIa8HG2",
        "outputId": "13e60df6-5e1d-41b5-e3f5-707a44e6f75b"
      },
      "source": [
        "#What was the total loss\n",
        "df_loss.sum()"
      ],
      "execution_count": 29,
      "outputs": [
        {
          "output_type": "execute_result",
          "data": {
            "text/plain": [
              "Description      PAPER CRAFT , LITTLE BIRDIEMEDIUM CERAMIC TOP ...\n",
              "Quantity                                                   -277572\n",
              "Total_Revenue                                              -918937\n",
              "dtype: object"
            ]
          },
          "metadata": {},
          "execution_count": 29
        }
      ]
    },
    {
      "cell_type": "code",
      "metadata": {
        "id": "MkUxD-fDtfEW",
        "colab": {
          "base_uri": "https://localhost:8080/",
          "height": 200
        },
        "outputId": "ddab61a3-2f85-415d-ec05-b628bcc7810e"
      },
      "source": [
        "#What is the top 5 countries that purchesed the most?\n",
        "df_countries=df_eda[['Country','Quantity','Total_Revenue']].groupby(['Country'],as_index=False).sum().sort_values(by='Quantity',ascending=False)\n",
        "df_countries.head()"
      ],
      "execution_count": 27,
      "outputs": [
        {
          "output_type": "execute_result",
          "data": {
            "text/html": [
              "<div>\n",
              "<style scoped>\n",
              "    .dataframe tbody tr th:only-of-type {\n",
              "        vertical-align: middle;\n",
              "    }\n",
              "\n",
              "    .dataframe tbody tr th {\n",
              "        vertical-align: top;\n",
              "    }\n",
              "\n",
              "    .dataframe thead th {\n",
              "        text-align: right;\n",
              "    }\n",
              "</style>\n",
              "<table border=\"1\" class=\"dataframe\">\n",
              "  <thead>\n",
              "    <tr style=\"text-align: right;\">\n",
              "      <th></th>\n",
              "      <th>Country</th>\n",
              "      <th>Quantity</th>\n",
              "      <th>Total_Revenue</th>\n",
              "    </tr>\n",
              "  </thead>\n",
              "  <tbody>\n",
              "    <tr>\n",
              "      <th>36</th>\n",
              "      <td>United Kingdom</td>\n",
              "      <td>4263829</td>\n",
              "      <td>8.187806e+06</td>\n",
              "    </tr>\n",
              "    <tr>\n",
              "      <th>24</th>\n",
              "      <td>Netherlands</td>\n",
              "      <td>200128</td>\n",
              "      <td>2.846615e+05</td>\n",
              "    </tr>\n",
              "    <tr>\n",
              "      <th>10</th>\n",
              "      <td>EIRE</td>\n",
              "      <td>142637</td>\n",
              "      <td>2.632768e+05</td>\n",
              "    </tr>\n",
              "    <tr>\n",
              "      <th>14</th>\n",
              "      <td>Germany</td>\n",
              "      <td>117448</td>\n",
              "      <td>2.216982e+05</td>\n",
              "    </tr>\n",
              "    <tr>\n",
              "      <th>13</th>\n",
              "      <td>France</td>\n",
              "      <td>110480</td>\n",
              "      <td>1.974039e+05</td>\n",
              "    </tr>\n",
              "  </tbody>\n",
              "</table>\n",
              "</div>"
            ],
            "text/plain": [
              "           Country  Quantity  Total_Revenue\n",
              "36  United Kingdom   4263829   8.187806e+06\n",
              "24     Netherlands    200128   2.846615e+05\n",
              "10            EIRE    142637   2.632768e+05\n",
              "14         Germany    117448   2.216982e+05\n",
              "13          France    110480   1.974039e+05"
            ]
          },
          "metadata": {},
          "execution_count": 27
        }
      ]
    },
    {
      "cell_type": "code",
      "metadata": {
        "id": "D-HnuKEAtho3"
      },
      "source": [
        "#What is the share of revenue for each cluster?\n",
        "#To answer this question\n",
        "df_share=df_clustering[['cluster_km','Total_Revenue']].groupby(['cluster_km'],as_index=False).sum().sort_values(by='Total_Revenue',ascending=False)"
      ],
      "execution_count": 64,
      "outputs": []
    },
    {
      "cell_type": "code",
      "metadata": {
        "id": "P9PGbF502ULR"
      },
      "source": [
        "#Let's calculate the share % for each cluster\n",
        "df_share['share (%)']=df_share['Total_Revenue']/[df_share['Total_Revenue'].sum()]*100\n",
        "df_share['share (%)']=df_share['share (%)'].round(2)"
      ],
      "execution_count": 81,
      "outputs": []
    },
    {
      "cell_type": "code",
      "metadata": {
        "colab": {
          "base_uri": "https://localhost:8080/",
          "height": 170
        },
        "id": "vzhj3Ycq3o5h",
        "outputId": "4a3fd43a-b79d-47d2-d3ed-5480cdf8d339"
      },
      "source": [
        "#Let's see how many clients have each cluster\n",
        "df_share['Total_clients']=df_clustering['cluster_km'].value_counts()\n",
        "df_share"
      ],
      "execution_count": 86,
      "outputs": [
        {
          "output_type": "execute_result",
          "data": {
            "text/html": [
              "<div>\n",
              "<style scoped>\n",
              "    .dataframe tbody tr th:only-of-type {\n",
              "        vertical-align: middle;\n",
              "    }\n",
              "\n",
              "    .dataframe tbody tr th {\n",
              "        vertical-align: top;\n",
              "    }\n",
              "\n",
              "    .dataframe thead th {\n",
              "        text-align: right;\n",
              "    }\n",
              "</style>\n",
              "<table border=\"1\" class=\"dataframe\">\n",
              "  <thead>\n",
              "    <tr style=\"text-align: right;\">\n",
              "      <th></th>\n",
              "      <th>cluster_km</th>\n",
              "      <th>Total_Revenue</th>\n",
              "      <th>share (%)</th>\n",
              "      <th>Total_clients</th>\n",
              "    </tr>\n",
              "  </thead>\n",
              "  <tbody>\n",
              "    <tr>\n",
              "      <th>2</th>\n",
              "      <td>2</td>\n",
              "      <td>3670668.374</td>\n",
              "      <td>50.14</td>\n",
              "      <td>4016</td>\n",
              "    </tr>\n",
              "    <tr>\n",
              "      <th>0</th>\n",
              "      <td>0</td>\n",
              "      <td>2337837.260</td>\n",
              "      <td>31.94</td>\n",
              "      <td>321</td>\n",
              "    </tr>\n",
              "    <tr>\n",
              "      <th>1</th>\n",
              "      <td>1</td>\n",
              "      <td>930935.290</td>\n",
              "      <td>12.72</td>\n",
              "      <td>25</td>\n",
              "    </tr>\n",
              "    <tr>\n",
              "      <th>3</th>\n",
              "      <td>3</td>\n",
              "      <td>380917.140</td>\n",
              "      <td>5.20</td>\n",
              "      <td>5</td>\n",
              "    </tr>\n",
              "  </tbody>\n",
              "</table>\n",
              "</div>"
            ],
            "text/plain": [
              "   cluster_km  Total_Revenue  share (%)  Total_clients\n",
              "2           2    3670668.374      50.14           4016\n",
              "0           0    2337837.260      31.94            321\n",
              "1           1     930935.290      12.72             25\n",
              "3           3     380917.140       5.20              5"
            ]
          },
          "metadata": {},
          "execution_count": 86
        }
      ]
    }
  ]
}
